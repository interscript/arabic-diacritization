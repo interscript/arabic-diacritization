{
 "cells": [
  {
   "cell_type": "code",
   "execution_count": 20,
   "id": "face191b",
   "metadata": {},
   "outputs": [],
   "source": [
    "\n",
    "import tqdm\n",
    "import pandas as pd\n",
    "from diacritization_evaluation import util\n"
   ]
  },
  {
   "cell_type": "code",
   "execution_count": null,
   "id": "8b4f99c6",
   "metadata": {},
   "outputs": [],
   "source": []
  },
  {
   "cell_type": "code",
   "execution_count": 70,
   "id": "6a6989ed",
   "metadata": {},
   "outputs": [],
   "source": [
    "\n",
    "from util.constants import ARAB_CHARS, ALL_POSSIBLE_HARAQAT\n",
    "\n",
    "d_arabic_chars_c_id = dict((c,i) for i,c in enumerate(list(ARAB_CHARS)))\n",
    "d_arabic_chars_id_c = dict((i,c) for i,c in enumerate(list(ARAB_CHARS)))\n",
    "\n",
    "d_haraqat_chars_c_id = dict((c,i) for i,c in enumerate(list(ALL_POSSIBLE_HARAQAT)))\n",
    "d_haraqat_chars_id_c = dict((i,c) for i,c in enumerate(list(ALL_POSSIBLE_HARAQAT)))\n",
    "\n",
    "\n",
    "def dist_haraqats_0(aa, bb):\n",
    "   return sum([a==b for a,b in zip(aa, bb)]) / len(aa)\n",
    "\n",
    "def dist_arabic_strings(str_a, str_b):\n",
    "    return dist_haraqats_0(util.extract_haraqat(str_a)[2], \n",
    "                           util.extract_haraqat(str_b)[2])\n",
    "\n",
    "\"\"\"\n",
    "def search(str, d_db):\n",
    "    str_extract = ''.join(util.extract_haraqat(str)[1])\n",
    "    if d_db.get(str_extract, False):\n",
    "        ds = [{'string': s, 'score': dist_arabic_strings(str, s)} for s in d_db[str_extract]]\n",
    "        return sorted(ds, key=lambda x: x['score'], reverse=True)\n",
    "    else:\n",
    "        return [{'string': str, 'score': -1}]\n",
    "\"\"\"\n",
    "\n",
    "def search_mishkal(str):\n",
    "    try:\n",
    "        suggestions = vocalizer.tashkeel(str, suggestion=True)[0]['suggest'].split(';')\n",
    "        ds = [{'string': s, 'score': dist_arabic_strings(str, s)} for s in suggestions]\n",
    "        #sorted(suggestions, key=lambda s: )\n",
    "        #print(ds)\n",
    "        return sorted(ds, key=lambda x: x['score'], reverse=True)\n",
    "    except:\n",
    "        return [{'string': str, 'score': 1.0}]\n"
   ]
  },
  {
   "cell_type": "code",
   "execution_count": null,
   "id": "bdd25977",
   "metadata": {},
   "outputs": [],
   "source": []
  },
  {
   "cell_type": "code",
   "execution_count": 3,
   "id": "8b3303fa",
   "metadata": {},
   "outputs": [],
   "source": [
    "\"\"\"\n",
    "import mishkal.tashkeel\n",
    "vocalizer = mishkal.tashkeel.TashkeelClass()\n",
    "text = u\"تطلع الشمس صباحا\"\n",
    "suggestions = vocalizer.tashkeel(text, suggestion=True)\n",
    "\"\"\""
   ]
  },
  {
   "cell_type": "code",
   "execution_count": 24,
   "id": "ddf738c7",
   "metadata": {},
   "outputs": [],
   "source": []
  },
  {
   "cell_type": "code",
   "execution_count": 73,
   "id": "3cab436f",
   "metadata": {},
   "outputs": [],
   "source": [
    "\n",
    "def transform_line(line):\n",
    "    new_line = []\n",
    "    for str in line.split():\n",
    "        if len(str) > 1:\n",
    "            s = search_mishkal(str)[0]\n",
    "            #print(str , ' :: ', s)\n",
    "            new_line.append(s['string'])\n",
    "        else:\n",
    "            new_line.append(str)   \n",
    "    return ' '.join(new_line)\n"
   ]
  },
  {
   "cell_type": "code",
   "execution_count": null,
   "id": "e37ee7d3",
   "metadata": {},
   "outputs": [],
   "source": []
  },
  {
   "cell_type": "code",
   "execution_count": 85,
   "id": "7a16e458",
   "metadata": {},
   "outputs": [
    {
     "name": "stderr",
     "output_type": "stream",
     "text": [
      "100%|██████████| 2026/2026 [04:04<00:00,  8.28it/s]\n"
     ]
    }
   ],
   "source": [
    "\n",
    "f = open(\"arabic-text-diacritization/helpers/test_600_diacritized.txt\", \"r\")\n",
    "data = f.readlines()\n",
    "\n",
    "data_traformed = [transform_line(d[:-1]) for d in tqdm.tqdm(data)] #[:10]\n",
    "\n",
    "#\"\"\"\n",
    "with open(\"arabic-text-diacritization/helpers/test_600_diacritized_searched_mishkal.txt\", 'w') as the_file:\n",
    "    for d in data_traformed:\n",
    "        the_file.write(d+'\\n')\n"
   ]
  },
  {
   "cell_type": "code",
   "execution_count": 35,
   "id": "3d10ab29",
   "metadata": {
    "scrolled": true
   },
   "outputs": [],
   "source": []
  },
  {
   "cell_type": "code",
   "execution_count": 76,
   "id": "444d5de5",
   "metadata": {},
   "outputs": [
    {
     "name": "stderr",
     "output_type": "stream",
     "text": [
      "100%|██████████| 2068/2068 [04:12<00:00,  8.18it/s]\n"
     ]
    }
   ],
   "source": [
    "\n",
    "f = open(\"arabic-text-diacritization/helpers/val_600_diacritized.txt\", \"r\")\n",
    "data = f.readlines()\n",
    "\n",
    "data_traformed = [transform_line(d[:-1]) for d in tqdm.tqdm(data)] #[:10]\n",
    "\n",
    "#\"\"\"\n",
    "with open(\"arabic-text-diacritization/helpers/val_600_diacritized_searched_mishkal.txt\", 'w') as the_file:\n",
    "    for d in data_traformed:\n",
    "        the_file.write(d+'\\n')\n"
   ]
  },
  {
   "cell_type": "code",
   "execution_count": null,
   "id": "ee3675ee",
   "metadata": {},
   "outputs": [],
   "source": []
  }
 ],
 "metadata": {
  "kernelspec": {
   "display_name": "Python 3",
   "language": "python",
   "name": "python3"
  },
  "language_info": {
   "codemirror_mode": {
    "name": "ipython",
    "version": 3
   },
   "file_extension": ".py",
   "mimetype": "text/x-python",
   "name": "python",
   "nbconvert_exporter": "python",
   "pygments_lexer": "ipython3",
   "version": "3.6.13"
  }
 },
 "nbformat": 4,
 "nbformat_minor": 5
}
