{
 "cells": [
  {
   "cell_type": "code",
   "execution_count": 1,
   "id": "0245e4bd",
   "metadata": {},
   "outputs": [],
   "source": [
    "\n",
    "import tqdm\n",
    "import pandas as pd\n",
    "from diacritization_evaluation import util\n"
   ]
  },
  {
   "cell_type": "code",
   "execution_count": null,
   "id": "2086d890",
   "metadata": {},
   "outputs": [],
   "source": []
  },
  {
   "cell_type": "code",
   "execution_count": 3,
   "id": "457a4bcd",
   "metadata": {},
   "outputs": [],
   "source": [
    "\n",
    "train_data = pd.read_csv(\n",
    "            'data/CA_MSA/train.csv',\n",
    "            encoding=\"utf-8\",\n",
    "            sep='|', #config_manager.config[\"data_separator\"],\n",
    "            #nrows=,#config_manager.config[\"n_training_examples\"],\n",
    "            header=None,\n",
    "        )\n",
    "\n",
    "data = list(train_data[0])\n"
   ]
  },
  {
   "cell_type": "code",
   "execution_count": null,
   "id": "4b0142f0",
   "metadata": {},
   "outputs": [],
   "source": [
    "   "
   ]
  },
  {
   "cell_type": "code",
   "execution_count": 4,
   "id": "50e62e6b",
   "metadata": {},
   "outputs": [
    {
     "name": "stderr",
     "output_type": "stream",
     "text": [
      "100%|██████████| 2069217/2069217 [05:45<00:00, 5989.21it/s]\n"
     ]
    }
   ],
   "source": [
    "d_db = {}\n",
    "for line in tqdm.tqdm(data):\n",
    "    for l in line.split():\n",
    "        try:\n",
    "            k = ''.join(util.extract_haraqat(l)[1])\n",
    "            if not d_db.get(k, False):\n",
    "                d_db[k] = [l]\n",
    "            else:\n",
    "                if not l in d_db[k]:\n",
    "                    d_db[k] = sorted(d_db[k]+[l])\n",
    "        except:\n",
    "            pass # print('err')"
   ]
  },
  {
   "cell_type": "code",
   "execution_count": null,
   "id": "2282088f",
   "metadata": {},
   "outputs": [],
   "source": []
  },
  {
   "cell_type": "code",
   "execution_count": 49,
   "id": "6d9a7669",
   "metadata": {},
   "outputs": [],
   "source": [
    "\n",
    "from util.constants import ARAB_CHARS, ALL_POSSIBLE_HARAQAT\n",
    "\n",
    "d_arabic_chars_c_id = dict((c,i) for i,c in enumerate(list(ARAB_CHARS)))\n",
    "d_arabic_chars_id_c = dict((i,c) for i,c in enumerate(list(ARAB_CHARS)))\n",
    "\n",
    "d_haraqat_chars_c_id = dict((c,i) for i,c in enumerate(list(ALL_POSSIBLE_HARAQAT)))\n",
    "d_haraqat_chars_id_c = dict((i,c) for i,c in enumerate(list(ALL_POSSIBLE_HARAQAT)))\n",
    "\n",
    "\n",
    "def dist_haraqats_0(aa, bb):\n",
    "   return sum([a==b for a,b in zip(aa, bb)]) / len(aa)\n",
    "\n",
    "def dist_arabic_strings(str_a, str_b):\n",
    "    return dist_haraqats_0(util.extract_haraqat(str_a)[2], \n",
    "                           util.extract_haraqat(str_b)[2])\n",
    " \n",
    "def search(str, d_db):\n",
    "    str_extract = ''.join(util.extract_haraqat(str)[1])\n",
    "    if d_db.get(str_extract, False):\n",
    "        ds = [{'string': s, 'score': dist_arabic_strings(str, s)} for s in d_db[str_extract]]\n",
    "        return sorted(ds, key=lambda x: x['score'], reverse=True)\n",
    "    else:\n",
    "        return [{'string': str, 'score': -1}]\n"
   ]
  },
  {
   "cell_type": "code",
   "execution_count": 50,
   "id": "a45e781b",
   "metadata": {},
   "outputs": [],
   "source": []
  },
  {
   "cell_type": "code",
   "execution_count": 52,
   "id": "dbd6b6f6",
   "metadata": {},
   "outputs": [
    {
     "data": {
      "text/plain": [
       "{'string': 'رِوايَةِ', 'score': 1.0}"
      ]
     },
     "execution_count": 52,
     "metadata": {},
     "output_type": "execute_result"
    }
   ],
   "source": [
    "\n",
    "str = 'رِوايَةِ'\n",
    "#str = data[0].split()[1]\n",
    "\n",
    "search(str, d_db)[0]\n"
   ]
  },
  {
   "cell_type": "code",
   "execution_count": 53,
   "id": "668d10a1",
   "metadata": {},
   "outputs": [],
   "source": []
  },
  {
   "cell_type": "code",
   "execution_count": 79,
   "id": "f79b5eb9",
   "metadata": {},
   "outputs": [],
   "source": [
    "\n",
    "def transform_line(line):\n",
    "    new_line = []\n",
    "    for str in line.split():\n",
    "        #print(len(str))\n",
    "        if len(str) > 1:\n",
    "            s = search(str, d_db)[0]\n",
    "            #print(s['score'])\n",
    "            new_line.append(s['string'])\n",
    "            #print(str, search(str, d_db)[0]['string'])\n",
    "        else:\n",
    "            new_line.append(str)   \n",
    "    return ' '.join(new_line)\n"
   ]
  },
  {
   "cell_type": "code",
   "execution_count": null,
   "id": "cb4d3b49",
   "metadata": {},
   "outputs": [],
   "source": []
  },
  {
   "cell_type": "code",
   "execution_count": 95,
   "id": "ad500400",
   "metadata": {
    "scrolled": true
   },
   "outputs": [
    {
     "name": "stderr",
     "output_type": "stream",
     "text": [
      "100%|██████████| 2026/2026 [00:08<00:00, 231.73it/s]\n"
     ]
    }
   ],
   "source": [
    "\n",
    "f = open(\"arabic-text-diacritization/helpers/test_600_diacritized.txt\", \"r\")\n",
    "data = f.readlines()\n",
    "\n",
    "data_traformed = [transform_line(d[:-1]) for d in tqdm.tqdm(data)] #[:10]\n",
    "\n",
    "with open(\"arabic-text-diacritization/helpers/test_600_diacritized_searched.txt\", 'w') as the_file:\n",
    "    #[the_file.writelines(d) for d in data_traformed]\n",
    "    for d in data_traformed:\n",
    "        the_file.write(d+'\\n')\n"
   ]
  },
  {
   "cell_type": "code",
   "execution_count": null,
   "id": "f4a8f31c",
   "metadata": {},
   "outputs": [],
   "source": []
  },
  {
   "cell_type": "code",
   "execution_count": 98,
   "id": "b405eb38",
   "metadata": {},
   "outputs": [
    {
     "name": "stderr",
     "output_type": "stream",
     "text": [
      "100%|██████████| 2068/2068 [00:20<00:00, 101.88it/s]\n"
     ]
    }
   ],
   "source": [
    "\n",
    "f = open(\"arabic-text-diacritization/helpers/val_600_diacritized.txt\", \"r\")\n",
    "data = f.readlines()\n",
    "\n",
    "data_traformed = [transform_line(d[:-1]) for d in tqdm.tqdm(data)]#[:10]\n",
    "\n",
    "with open(\"arabic-text-diacritization/helpers/val_600_diacritized_searched.txt\", 'w') as the_file:\n",
    "    #[the_file.writelines(d) for d in data_traformed]\n",
    "    for d in data_traformed:\n",
    "        the_file.write(d+'\\n')\n",
    "\n"
   ]
  },
  {
   "cell_type": "code",
   "execution_count": null,
   "id": "b2ecb804",
   "metadata": {},
   "outputs": [],
   "source": []
  }
 ],
 "metadata": {
  "kernelspec": {
   "display_name": "Python 3",
   "language": "python",
   "name": "python3"
  },
  "language_info": {
   "codemirror_mode": {
    "name": "ipython",
    "version": 3
   },
   "file_extension": ".py",
   "mimetype": "text/x-python",
   "name": "python",
   "nbconvert_exporter": "python",
   "pygments_lexer": "ipython3",
   "version": "3.6.13"
  }
 },
 "nbformat": 4,
 "nbformat_minor": 5
}
