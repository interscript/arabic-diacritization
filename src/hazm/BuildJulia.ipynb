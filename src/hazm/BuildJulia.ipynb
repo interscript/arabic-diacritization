{
 "cells": [
  {
   "cell_type": "code",
   "execution_count": 1,
   "id": "c58dc743",
   "metadata": {},
   "outputs": [
    {
     "name": "stderr",
     "output_type": "stream",
     "text": [
      "\u001b[32m\u001b[1m    Updating\u001b[22m\u001b[39m registry at `~/.julia/registries/General.toml`\n",
      "\u001b[32m\u001b[1m   Resolving\u001b[22m\u001b[39m package versions...\n",
      "\u001b[32m\u001b[1m  No Changes\u001b[22m\u001b[39m to `~/.julia/environments/v1.7/Project.toml`\n",
      "\u001b[32m\u001b[1m  No Changes\u001b[22m\u001b[39m to `~/.julia/environments/v1.7/Manifest.toml`\n",
      "\u001b[32m\u001b[1m    Building\u001b[22m\u001b[39m Conda ─→ `~/.julia/scratchspaces/44cfe95a-1eb2-52ea-b672-e2afdf69b78f/6cdc8832ba11c7695f494c9d9a1c31e90959ce0f/build.log`\n",
      "\u001b[32m\u001b[1m    Building\u001b[22m\u001b[39m PyCall → `~/.julia/scratchspaces/44cfe95a-1eb2-52ea-b672-e2afdf69b78f/71fd4022ecd0c6d20180e23ff1b3e05a143959c2/build.log`\n"
     ]
    }
   ],
   "source": [
    "\n",
    "ENV[\"PYTHON\"] = \"/home/jair/anaconda3/envs/rababa/bin/python\"\n",
    "import Pkg\n",
    "Pkg.add(\"PyCall\")\n",
    "Pkg.build(\"PyCall\")\n"
   ]
  },
  {
   "cell_type": "code",
   "execution_count": 2,
   "id": "cd33d18c",
   "metadata": {},
   "outputs": [],
   "source": [
    "#!pwd"
   ]
  },
  {
   "cell_type": "code",
   "execution_count": 2,
   "id": "8e8031bd",
   "metadata": {},
   "outputs": [
    {
     "data": {
      "text/plain": [
       "PyObject <module 'hazm' from '/home/jair/anaconda3/envs/rababa/lib/python3.6/site-packages/hazm/__init__.py'>"
      ]
     },
     "execution_count": 2,
     "metadata": {},
     "output_type": "execute_result"
    }
   ],
   "source": [
    "#from hazm import *\n",
    "using PyCall\n",
    "hazm = pyimport(\"hazm\")\n",
    "\n",
    "PATH_HAZM = \"resources/postagger.model\"\n",
    "PATH_FLEXICON = \"resources/\"\n",
    "\n",
    "stemmer = hazm.Stemmer()\n",
    "lemmatizer = hazm.Lemmatizer()\n",
    "normalizer = hazm.Normalizer()\n",
    "tagger = hazm.POSTagger(model=PATH_HAZM)\n",
    "#openpyxl = pyimport(\"openpyxl\")\n"
   ]
  },
  {
   "cell_type": "code",
   "execution_count": 3,
   "id": "b011671d",
   "metadata": {},
   "outputs": [
    {
     "data": {
      "text/plain": [
       "PyObject <hazm.POSTagger.POSTagger object at 0x7fcafa45e6d8>"
      ]
     },
     "execution_count": 3,
     "metadata": {},
     "output_type": "execute_result"
    }
   ],
   "source": [
    "\n",
    "PATH_HAZM = \"resources/postagger.model\"\n",
    "PATH_FLEXICON = \"resources/\"\n",
    "\n",
    "stemmer = hazm.Stemmer()\n",
    "lemmatizer = hazm.Lemmatizer()\n",
    "normalizer = hazm.Normalizer()\n",
    "tagger = hazm.POSTagger(model=PATH_HAZM)\n"
   ]
  },
  {
   "cell_type": "code",
   "execution_count": null,
   "id": "dfbb5090",
   "metadata": {},
   "outputs": [],
   "source": []
  },
  {
   "cell_type": "code",
   "execution_count": 17,
   "id": "e1b30d21",
   "metadata": {},
   "outputs": [
    {
     "data": {
      "text/plain": [
       "#7 (generic function with 1 method)"
      ]
     },
     "execution_count": 17,
     "metadata": {},
     "output_type": "execute_result"
    }
   ],
   "source": [
    "\n",
    "dicCODE = Dict()\n",
    "\n",
    "dicCODE[\"change all instances of ي and ك in the text to ی and ک\"] = txt -> py\"\"\"normalise\"\"\"(txt)\n",
    "\n"
   ]
  },
  {
   "cell_type": "code",
   "execution_count": null,
   "id": "10d8772c",
   "metadata": {},
   "outputs": [],
   "source": []
  },
  {
   "cell_type": "code",
   "execution_count": 14,
   "id": "34f410cf",
   "metadata": {},
   "outputs": [
    {
     "data": {
      "text/plain": [
       "\"مزايایی\""
      ]
     },
     "execution_count": 14,
     "metadata": {},
     "output_type": "execute_result"
    }
   ],
   "source": [
    "str = \"مزايایی\"\n",
    "txt = \"مزايایی\""
   ]
  },
  {
   "cell_type": "code",
   "execution_count": 15,
   "id": "d3cb232a",
   "metadata": {},
   "outputs": [
    {
     "data": {
      "text/plain": [
       "\"مزایایی\""
      ]
     },
     "execution_count": 15,
     "metadata": {},
     "output_type": "execute_result"
    }
   ],
   "source": [
    "dicPYLIB[\"change all instances of ي and ك in the text to ی and ک\"](txt)"
   ]
  },
  {
   "cell_type": "code",
   "execution_count": 15,
   "id": "2c3b5204",
   "metadata": {},
   "outputs": [
    {
     "data": {
      "text/plain": [
       "\"مزاياییمزايایی\""
      ]
     },
     "execution_count": 15,
     "metadata": {},
     "output_type": "execute_result"
    }
   ],
   "source": [
    "string(text,text)"
   ]
  },
  {
   "cell_type": "code",
   "execution_count": 8,
   "id": "cedddadf",
   "metadata": {},
   "outputs": [
    {
     "data": {
      "text/plain": [
       "1-element Vector{String}:\n",
       " \"مزايایی\""
      ]
     },
     "execution_count": 8,
     "metadata": {},
     "output_type": "execute_result"
    }
   ],
   "source": [
    "hazm.word_tokenize(text)"
   ]
  },
  {
   "cell_type": "code",
   "execution_count": 9,
   "id": "7fd0a856",
   "metadata": {},
   "outputs": [
    {
     "data": {
      "text/plain": [
       "1-element Vector{Tuple{String, String}}:\n",
       " (\"مزايایی\", \"N\")"
      ]
     },
     "execution_count": 9,
     "metadata": {},
     "output_type": "execute_result"
    }
   ],
   "source": [
    "tagger.tag(hazm.word_tokenize(text))"
   ]
  },
  {
   "cell_type": "code",
   "execution_count": 12,
   "id": "bb4ebf5d",
   "metadata": {},
   "outputs": [
    {
     "data": {
      "text/plain": [
       "\"مزایایی\""
      ]
     },
     "execution_count": 12,
     "metadata": {},
     "output_type": "execute_result"
    }
   ],
   "source": [
    "normalizer.normalize(text)"
   ]
  },
  {
   "cell_type": "code",
   "execution_count": 13,
   "id": "e4c49841",
   "metadata": {},
   "outputs": [
    {
     "data": {
      "text/plain": [
       "\"مزايایی\""
      ]
     },
     "execution_count": 13,
     "metadata": {},
     "output_type": "execute_result"
    }
   ],
   "source": [
    "lemmatizer.lemmatize(text)"
   ]
  },
  {
   "cell_type": "code",
   "execution_count": 16,
   "id": "680260aa",
   "metadata": {},
   "outputs": [
    {
     "data": {
      "text/plain": [
       "#7 (generic function with 1 method)"
      ]
     },
     "execution_count": 16,
     "metadata": {},
     "output_type": "execute_result"
    }
   ],
   "source": [
    "dicHAZM = Dict()\n",
    "\n",
    "dicHAZM[\"pos\"] = q -> Dict(\"HAZM\" => string(\"pos \", q),\n",
    "                           \"data\" => tagger.tag(hazm.word_tokenize(q))) \n",
    "dicHAZM[\"stem\"] = q -> Dict(\"HAZM\" => string(\"stem \", q),\n",
    "                            \"data\" => stemmer.stem(q))\n",
    "dicHAZM[\"lemma\"] = q -> Dict(\"HAZM\" => string(\"lemma \", q),\n",
    "                             \"data\" => lemmatizer.lemmatize(q))\n",
    "\n",
    "dicHAZM[\"normalize\"] = q -> Dict(\"HAZM\" => string(\"normalize \", q),\n",
    "                                 \"data\" => normalizer.normalize(q))"
   ]
  },
  {
   "cell_type": "code",
   "execution_count": 10,
   "id": "e0ff6cef",
   "metadata": {},
   "outputs": [],
   "source": [
    "\n",
    "# include(\"lib_julia/get_assets.jl\")\n",
    "include(\"lib/model.jl\")\n"
   ]
  },
  {
   "cell_type": "code",
   "execution_count": 12,
   "id": "8a317444",
   "metadata": {},
   "outputs": [
    {
     "data": {
      "text/plain": [
       "\"مزایایی\""
      ]
     },
     "execution_count": 12,
     "metadata": {},
     "output_type": "execute_result"
    }
   ],
   "source": [
    "py\"\"\"normalise\"\"\"(txt)"
   ]
  },
  {
   "cell_type": "code",
   "execution_count": null,
   "id": "bde4dfe0",
   "metadata": {},
   "outputs": [],
   "source": []
  },
  {
   "cell_type": "code",
   "execution_count": null,
   "id": "e5ff204c",
   "metadata": {},
   "outputs": [],
   "source": []
  },
  {
   "cell_type": "code",
   "execution_count": null,
   "id": "b2472efd",
   "metadata": {},
   "outputs": [],
   "source": []
  },
  {
   "cell_type": "code",
   "execution_count": 15,
   "id": "fef16b32",
   "metadata": {},
   "outputs": [
    {
     "data": {
      "text/plain": [
       "1-element Vector{Tuple{String, String}}:\n",
       " (\"مزايایی\", \"N\")"
      ]
     },
     "execution_count": 15,
     "metadata": {},
     "output_type": "execute_result"
    }
   ],
   "source": [
    "tagger.tag(hazm.word_tokenize(str))"
   ]
  },
  {
   "cell_type": "code",
   "execution_count": 8,
   "id": "b6e7d3e9",
   "metadata": {},
   "outputs": [
    {
     "name": "stdout",
     "output_type": "stream",
     "text": [
      "/home/jair/WORK/HUMBABA/humbaba_interscript.jl/run/rababa\n"
     ]
    },
    {
     "data": {
      "text/plain": [
       "Process(`\u001b[4mpwd\u001b[24m`, ProcessExited(0))"
      ]
     },
     "execution_count": 8,
     "metadata": {},
     "output_type": "execute_result"
    }
   ],
   "source": [
    "run(`pwd`)"
   ]
  },
  {
   "cell_type": "code",
   "execution_count": 11,
   "id": "c09a64fa",
   "metadata": {},
   "outputs": [
    {
     "name": "stdout",
     "output_type": "stream",
     "text": [
      "Affixes.xlsx\n",
      "data_trans.tar\n",
      "df_data_2.csv\n",
      "df_data.csv\n",
      "Entries.xlsx\n",
      "farsi_assets.pickle\n",
      "poems_merged_trans.txt\n",
      "poems_merged.txt\n",
      "postagger.model\n",
      "README.md\n",
      "voa_persian_2003_2008_cleaned_trans.txt\n",
      "voa_persian_2003_2008_cleaned.txt\n"
     ]
    },
    {
     "data": {
      "text/plain": [
       "Process(`\u001b[4mls\u001b[24m \u001b[4mresources\u001b[24m`, ProcessExited(0))"
      ]
     },
     "execution_count": 11,
     "metadata": {},
     "output_type": "execute_result"
    }
   ],
   "source": [
    "run(`ls resources`)"
   ]
  },
  {
   "cell_type": "code",
   "execution_count": null,
   "id": "ad83c83c",
   "metadata": {},
   "outputs": [],
   "source": []
  },
  {
   "cell_type": "code",
   "execution_count": 19,
   "id": "c08e9ffa",
   "metadata": {},
   "outputs": [],
   "source": [
    "\n",
    "using PyCall\n",
    "\n",
    "\n",
    "py\"\"\"\n",
    "\n",
    "from __future__ import unicode_literals\n",
    "from hazm import *\n",
    "\n",
    "import pandas as pd\n",
    "import numpy as np\n",
    "import _pickle as cPickle\n",
    "\n",
    "\n",
    "LIB_LOCAL_PATH = '/home/jair/WORK/Farsi/rababa'\n",
    "\n",
    "import sys\n",
    "\n",
    "sys.path.append(LIB_LOCAL_PATH)\n",
    "\n",
    "\n",
    "PATH_HAZM = \"resources/postagger.model\"\n",
    "\n",
    "stemmer = Stemmer()\n",
    "lemmatizer = Lemmatizer()\n",
    "normalizer = Normalizer()\n",
    "tagger = POSTagger(model=PATH_HAZM)\n",
    "\n",
    "\n",
    "file = open('resources/farsi_assets.pickle','rb')\n",
    "dic_assets = cPickle.load(file)\n",
    "file.close()\n",
    "\n",
    "df_Affixes = dic_assets['affixes']\n",
    "df_Entries = dic_assets['entries']\n",
    "d_FLEXI = dic_assets['d_FLEXI']\n",
    "d_map_FLEXI = dic_assets['d_map_FLEXI']\n",
    "d_HAZM = dic_assets['d_HAZM']\n",
    "d_map_HAZM = dic_assets['d_map_HAZM']\n",
    "\n",
    "\"\"\""
   ]
  },
  {
   "cell_type": "code",
   "execution_count": 22,
   "id": "4f71f55d",
   "metadata": {},
   "outputs": [
    {
     "data": {
      "text/plain": [
       "Dict{Any, Any} with 6 entries:\n",
       "  \"d_map_HAZM\"  => Dict{Any, Any}(\"DETe\"=>\"Determiner\", \"CONJ\"=>\"Conjunction\", …\n",
       "  \"d_FLEXI\"     => Dict{Any, Any}(\"Conjunction\"=>\"C0, C1\", \"Punctuation\"=>NaN, …\n",
       "  \"d_map_FLEXI\" => Dict{Any, Any}(\"V3\"=>\"Verb\", \"N1\"=>\"Noun\", \"N6\"=>\"Pronoun\", …\n",
       "  \"entries\"     => PyObject       PhonologicalForm WrittenForm SynCatCode Freq …\n",
       "  \"d_HAZM\"      => Dict{Any, Any}(\"Conjunction\"=>\"CONJ, CONJe\", \"Punctuation\"=>…\n",
       "  \"affixes\"     => PyObject       id Affix  ... هم‌نویسه با واحد واژگانی هجاسازی…"
      ]
     },
     "execution_count": 22,
     "metadata": {},
     "output_type": "execute_result"
    }
   ],
   "source": [
    "py\"\"\"dic_assets\"\"\" "
   ]
  },
  {
   "cell_type": "code",
   "execution_count": 37,
   "id": "76c018bf",
   "metadata": {},
   "outputs": [],
   "source": [
    "include(\"lib_julia/get_assets.jl\")"
   ]
  },
  {
   "cell_type": "code",
   "execution_count": 38,
   "id": "8ff99008",
   "metadata": {},
   "outputs": [
    {
     "data": {
      "text/plain": [
       "\"مزایایی\""
      ]
     },
     "execution_count": 38,
     "metadata": {},
     "output_type": "execute_result"
    }
   ],
   "source": [
    "py\"\"\"normalizer.normalize\"\"\"(text)"
   ]
  },
  {
   "cell_type": "code",
   "execution_count": 40,
   "id": "6dbba02b",
   "metadata": {},
   "outputs": [
    {
     "data": {
      "text/plain": [
       "\"مزایایی\""
      ]
     },
     "execution_count": 40,
     "metadata": {},
     "output_type": "execute_result"
    }
   ],
   "source": [
    "py\"\"\"normalise\"\"\"(text)"
   ]
  },
  {
   "cell_type": "code",
   "execution_count": 44,
   "id": "438c0303",
   "metadata": {},
   "outputs": [],
   "source": [
    "#wrd = text\n",
    "#py\"\"\"process_noun\"\"\"(wrd)"
   ]
  },
  {
   "cell_type": "code",
   "execution_count": 32,
   "id": "44e09f2e",
   "metadata": {},
   "outputs": [],
   "source": [
    "py\"\"\"\n",
    "\n",
    "a = 33\n",
    "print(a*2)\n",
    "\n",
    "def one():\n",
    "    print(a)\n",
    "\"\"\""
   ]
  },
  {
   "cell_type": "code",
   "execution_count": 35,
   "id": "df17d194",
   "metadata": {},
   "outputs": [],
   "source": [
    "py\"\"\"\n",
    "def one():\n",
    "    return a\n",
    "\"\"\""
   ]
  },
  {
   "cell_type": "code",
   "execution_count": 36,
   "id": "7f0c9497",
   "metadata": {},
   "outputs": [
    {
     "data": {
      "text/plain": [
       "33"
      ]
     },
     "execution_count": 36,
     "metadata": {},
     "output_type": "execute_result"
    }
   ],
   "source": [
    "py\"\"\"one\"\"\"()"
   ]
  },
  {
   "cell_type": "code",
   "execution_count": null,
   "id": "b40c6128",
   "metadata": {},
   "outputs": [],
   "source": []
  }
 ],
 "metadata": {
  "kernelspec": {
   "display_name": "Julia 1.7.1",
   "language": "julia",
   "name": "julia-1.7"
  },
  "language_info": {
   "file_extension": ".jl",
   "mimetype": "application/julia",
   "name": "julia",
   "version": "1.7.1"
  }
 },
 "nbformat": 4,
 "nbformat_minor": 5
}
