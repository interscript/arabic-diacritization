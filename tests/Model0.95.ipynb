{
 "cells": [
  {
   "cell_type": "code",
   "execution_count": null,
   "id": "b2ad821b",
   "metadata": {},
   "outputs": [],
   "source": [
    "\n",
    "LIB_LOCAL_PATH = '/home/jair/WORK/Farsi/rababa'\n",
    "\n",
    "import sys\n",
    "\n",
    "sys.path.append(LIB_LOCAL_PATH)\n",
    "\n",
    "\n",
    "import lib.get_assets as assets\n",
    "import lib.model0_9 as l0_9\n",
    "import lib.rules_and_coord as m0_9\n"
   ]
  },
  {
   "cell_type": "markdown",
   "id": "74dd4ae5",
   "metadata": {},
   "source": [
    "### Rule 1"
   ]
  },
  {
   "cell_type": "code",
   "execution_count": 1,
   "id": "bc27b416",
   "metadata": {},
   "outputs": [
    {
     "ename": "NameError",
     "evalue": "name 'l0_9' is not defined",
     "output_type": "error",
     "traceback": [
      "\u001b[0;31m---------------------------------------------------------------------------\u001b[0m",
      "\u001b[0;31mNameError\u001b[0m                                 Traceback (most recent call last)",
      "\u001b[0;32m<ipython-input-1-c9589f0ab1ce>\u001b[0m in \u001b[0;36m<module>\u001b[0;34m\u001b[0m\n\u001b[1;32m      5\u001b[0m \u001b[0;34m\u001b[0m\u001b[0m\n\u001b[1;32m      6\u001b[0m \u001b[0;32mfor\u001b[0m \u001b[0mt\u001b[0m \u001b[0;32min\u001b[0m \u001b[0mtests\u001b[0m\u001b[0;34m:\u001b[0m\u001b[0;34m\u001b[0m\u001b[0;34m\u001b[0m\u001b[0m\n\u001b[0;32m----> 7\u001b[0;31m     \u001b[0;32massert\u001b[0m \u001b[0ml0_9\u001b[0m\u001b[0;34m.\u001b[0m\u001b[0mgeneral_search\u001b[0m\u001b[0;34m(\u001b[0m\u001b[0mt\u001b[0m\u001b[0;34m[\u001b[0m\u001b[0;34m'farsi'\u001b[0m\u001b[0;34m]\u001b[0m\u001b[0;34m,\u001b[0m \u001b[0mpos_neg\u001b[0m\u001b[0;34m=\u001b[0m\u001b[0;34m'Verb'\u001b[0m\u001b[0;34m)\u001b[0m \u001b[0;34m==\u001b[0m \u001b[0mt\u001b[0m\u001b[0;34m[\u001b[0m\u001b[0;34m'trans'\u001b[0m\u001b[0;34m]\u001b[0m\u001b[0;34m\u001b[0m\u001b[0;34m\u001b[0m\u001b[0m\n\u001b[0m",
      "\u001b[0;31mNameError\u001b[0m: name 'l0_9' is not defined"
     ]
    }
   ],
   "source": [
    "\n",
    "tests = [{'farsi': 'ییلاق‌نشین', 'trans': 'yeylAqneSin'},\n",
    "         {'farsi': 'ییدیش', 'trans': 'yidiS'},\n",
    "         {'farsi': 'یوونتوس', 'trans': 'yuventus'},\n",
    "         {'farsi': 'یونید', 'trans': 'یونید'}] # case verb\n",
    "\n",
    "for t in tests:   \n",
    "    assert l0_9.general_search(t['farsi'], pos_neg='Verb') == t['trans']\n"
   ]
  },
  {
   "cell_type": "code",
   "execution_count": null,
   "id": "cf71ac43",
   "metadata": {},
   "outputs": [],
   "source": []
  },
  {
   "cell_type": "markdown",
   "id": "c8ea2fb4",
   "metadata": {},
   "source": [
    "### Rule 2 (Nouns)"
   ]
  },
  {
   "cell_type": "code",
   "execution_count": 49,
   "id": "1e70bac7",
   "metadata": {},
   "outputs": [],
   "source": [
    "\n",
    "tests = [{'farsi': 'پیامبرت', 'trans': 'payAmbarat'},\n",
    "         {'farsi': 'مزايایی', 'trans': 'mazAyAyi'},\n",
    "         #{'farsi': 'بی شرف', 'trans': 'bi Saraf'},\n",
    "         #{'farsi': 'بی عقل', 'trans': 'bi \\'aql'}\n",
    "        ]\n",
    "\n",
    "for t in tests:\n",
    "    # print(m0_9.run_transcription_0(t['farsi']))\n",
    "    assert m0_9.run_transcription_0(t['farsi']) == t['trans']\n"
   ]
  },
  {
   "cell_type": "code",
   "execution_count": null,
   "id": "8708fd9d",
   "metadata": {},
   "outputs": [],
   "source": []
  },
  {
   "cell_type": "markdown",
   "id": "a309af8a",
   "metadata": {},
   "source": [
    "### Rule 3 (Verbs basis)"
   ]
  },
  {
   "cell_type": "code",
   "execution_count": 50,
   "id": "4131717c",
   "metadata": {},
   "outputs": [],
   "source": [
    "\n",
    "tests = [{'farsi': 'بخواهند بروند', 'trans': 'bexAhand beravand'},\n",
    "         # {'farsi': 'می‌تواند بخوابد', 'trans': 'mitavAnad bexAbad'}, # \\u200c\n",
    "         # {'farsi': 'نشد بپریم', 'trans': 'naSod beparim'}, # می\n",
    "         # {'farsi': 'می روید', 'trans': 'miravid'} # \n",
    "        # {'farsi': 'می ترسد', 'trans': 'mitarsad'}\n",
    "        ]\n",
    "\n",
    "for t in tests:\n",
    "    assert m0_9.run_transcription_0(t['farsi']) == t['trans']\n"
   ]
  },
  {
   "cell_type": "code",
   "execution_count": null,
   "id": "6dc2caa7",
   "metadata": {},
   "outputs": [],
   "source": []
  },
  {
   "cell_type": "markdown",
   "id": "516a75a9",
   "metadata": {},
   "source": [
    "### Rule 4 (Frequency based prioritization for collisions)"
   ]
  },
  {
   "cell_type": "code",
   "execution_count": 51,
   "id": "744a265a",
   "metadata": {},
   "outputs": [],
   "source": [
    "\n",
    "tests = [{'farsi': 'ی', 'trans': 'ye'}]\n",
    "\n",
    "for t in tests:\n",
    "    assert l0_9.general_search(t['farsi']) == t['trans']\n",
    "\n",
    "    \n",
    "tests = [{'farsi': 'ی', 'trans': 'i'}]\n",
    "for t in tests:\n",
    "    assert l0_9.affix_search(t['farsi']) == t['trans']\n"
   ]
  },
  {
   "cell_type": "code",
   "execution_count": null,
   "id": "8b0b3333",
   "metadata": {},
   "outputs": [],
   "source": []
  },
  {
   "cell_type": "markdown",
   "id": "434c50be",
   "metadata": {},
   "source": [
    "### Rule 5 (Verb _ as خواهند_كر)"
   ]
  },
  {
   "cell_type": "code",
   "execution_count": 52,
   "id": "c7d40975",
   "metadata": {},
   "outputs": [],
   "source": [
    "\n",
    "tests = [{'farsi': 'خواهند_كرد', 'trans': 'xAhand kard'}]\n",
    "\n",
    "for t in tests:\n",
    "    assert l0_9.process_verb(l0_9.normalise(t['farsi'])) == t['trans']\n",
    "\n",
    "tests = [{'farsi': 'خواهند كرد', 'trans': 'xAhand kard'},\n",
    "         {'farsi': 'بخواهند بروند', 'trans': 'bexAhand beravand'}]\n",
    "\n",
    "for t in tests:\n",
    "    assert m0_9.run_transcription_0(t['farsi']) == t['trans']\n",
    "    "
   ]
  },
  {
   "cell_type": "code",
   "execution_count": null,
   "id": "7adfb46d",
   "metadata": {},
   "outputs": [],
   "source": []
  },
  {
   "cell_type": "markdown",
   "id": "705bc115",
   "metadata": {},
   "source": [
    "### Rule 6 (normalisation ي, ك)"
   ]
  },
  {
   "cell_type": "code",
   "execution_count": 53,
   "id": "abafaa98",
   "metadata": {},
   "outputs": [],
   "source": [
    "\n",
    "tests = [{'farsi': 'گزارشي', 'trans': 'گزارشی'},\n",
    "         {'farsi': 'ك', 'trans': 'ک'}]\n",
    "\n",
    "for t in tests:\n",
    "    assert l0_9.normalise(t['farsi']) == t['trans']\n"
   ]
  },
  {
   "cell_type": "code",
   "execution_count": null,
   "id": "c9dddcdd",
   "metadata": {},
   "outputs": [],
   "source": []
  },
  {
   "cell_type": "markdown",
   "id": "7df932ee",
   "metadata": {},
   "source": [
    "### Rule 7 (affix ی)"
   ]
  },
  {
   "cell_type": "code",
   "execution_count": 54,
   "id": "0e312945",
   "metadata": {},
   "outputs": [],
   "source": [
    "    \n",
    "tests = [#{'farsi': 'بانوی', 'trans': 'bAnuye', 'pos': 'Noun', 'pos_last': 'Adjective'}, \n",
    "         {'farsi': 'چیزی', 'trans': 'Cizi', 'pos': 'Noun', 'pos_last': 'Verb'}]\n",
    "\n",
    "for t in tests:\n",
    "    assert m0_9.rule_7(t['farsi'], pos=t['pos'],  pos_last=t['pos_last']) == t['trans']\n"
   ]
  },
  {
   "cell_type": "code",
   "execution_count": null,
   "id": "5b4bd71f",
   "metadata": {},
   "outputs": [],
   "source": []
  },
  {
   "cell_type": "markdown",
   "id": "d372ed68",
   "metadata": {},
   "source": [
    "### Rule 8 (letter ۀ)"
   ]
  },
  {
   "cell_type": "code",
   "execution_count": 55,
   "id": "36649921",
   "metadata": {},
   "outputs": [],
   "source": [
    "\n",
    "tests = [{'farsi': 'همۀ', 'trans': 'hameye', 'pos': 'Determiner'}, \n",
    "         {'farsi': 'بچهٔ', 'trans': 'baCCeye', 'pos': 'Verb'}]\n",
    "\n",
    "for t in tests:\n",
    "    # print(rule_8(t['farsi'], pos=t['pos']))\n",
    "    assert m0_9.rule_8(t['farsi'], pos=t['pos']) == t['trans']\n"
   ]
  },
  {
   "cell_type": "code",
   "execution_count": null,
   "id": "17662182",
   "metadata": {},
   "outputs": [],
   "source": []
  },
  {
   "cell_type": "markdown",
   "id": "2d9e191a",
   "metadata": {},
   "source": [
    "### Rule 9 (collision affix ات)"
   ]
  },
  {
   "cell_type": "code",
   "execution_count": 56,
   "id": "88522bbb",
   "metadata": {},
   "outputs": [],
   "source": [
    "\n",
    "tests = [{'farsi': 'مزخرفات', 'trans': 'mozaxrafAt'},\n",
    "         {'farsi': 'خاطرات‌مان', 'trans': 'xAterAtemAn'},\n",
    "         {'farsi': 'عمه‌ات', 'trans': \"'amme'at\"}]\n",
    "\n",
    "\n",
    "for t in tests:\n",
    "    assert m0_9.rule_9(l0_9.normalise(t['farsi'])) == t['trans']\n"
   ]
  },
  {
   "cell_type": "code",
   "execution_count": null,
   "id": "ba31ed3d",
   "metadata": {},
   "outputs": [],
   "source": []
  },
  {
   "cell_type": "markdown",
   "id": "70be2230",
   "metadata": {},
   "source": [
    "### Rule 10 (collision affix ان)"
   ]
  },
  {
   "cell_type": "code",
   "execution_count": 57,
   "id": "a56dd1eb",
   "metadata": {},
   "outputs": [],
   "source": [
    "\n",
    "tests = [{'farsi': 'بانیان', 'trans': 'bAniyAn', 'pos': 'Noun'},\n",
    "         {'farsi': 'دیگران', 'trans': 'digarAn', 'pos': 'Preposition'}]\n",
    "\n",
    "\n",
    "for t in tests:\n",
    "    assert m0_9.rule_10(l0_9.normalise(t['farsi'])) == t['trans']\n"
   ]
  },
  {
   "cell_type": "code",
   "execution_count": null,
   "id": "ff37011c",
   "metadata": {},
   "outputs": [],
   "source": []
  },
  {
   "cell_type": "markdown",
   "id": "9293868f",
   "metadata": {},
   "source": [
    "### Rule 11 (collision affix ش)"
   ]
  },
  {
   "cell_type": "code",
   "execution_count": 58,
   "id": "a506bd12",
   "metadata": {},
   "outputs": [],
   "source": [
    "\n",
    "tests = [{'farsi': 'وسایلش', 'trans':'vasAyelaS', 'pos': 'Noun'},\n",
    "         {'farsi': 'بردندش', 'trans': 'bordandeS', 'pos': 'Verb'}]\n",
    "\n",
    "for t in tests:\n",
    "    assert m0_9.rule_11(t['farsi'], t['pos']) == t['trans']\n"
   ]
  },
  {
   "cell_type": "code",
   "execution_count": null,
   "id": "fc8b787e",
   "metadata": {},
   "outputs": [],
   "source": []
  },
  {
   "cell_type": "markdown",
   "id": "0782d384",
   "metadata": {},
   "source": [
    "### Rule 12 (affix م)"
   ]
  },
  {
   "cell_type": "code",
   "execution_count": 59,
   "id": "a97af138",
   "metadata": {},
   "outputs": [],
   "source": [
    "\n",
    "tests = [{'farsi': 'چندم', 'trans':'Candom', 'pos': 'Number'}]\n",
    "\n",
    "for t in tests:\n",
    "    assert m0_9.process_wrd(t['farsi'], t['pos']) == t['trans']\n"
   ]
  },
  {
   "cell_type": "code",
   "execution_count": null,
   "id": "84d31425",
   "metadata": {},
   "outputs": [],
   "source": []
  },
  {
   "cell_type": "markdown",
   "id": "8cbf34f6",
   "metadata": {},
   "source": [
    "### Rule 13 (affix مان)"
   ]
  },
  {
   "cell_type": "code",
   "execution_count": 60,
   "id": "3c94c534",
   "metadata": {},
   "outputs": [],
   "source": [
    "\n",
    "tests = [{'farsi': 'برای‌مان', 'trans':'barAyemAn', 'pos': 'Preposition'},\n",
    "         {'farsi': 'خاطرات‌مان', 'trans':'xAterAtemAn', 'pos': 'Noun'},\n",
    "         # {'farsi': 'کردن‌مان', 'trans': 'kardanemAn', 'pos': 'Noun'}\n",
    "        ]\n",
    "\n",
    "for t in tests:\n",
    "    # print(rule_13(t['farsi'], t['pos']))\n",
    "    assert m0_9.rule_13(t['farsi'], t['pos']) == t['trans']\n"
   ]
  },
  {
   "cell_type": "code",
   "execution_count": null,
   "id": "f23e515b",
   "metadata": {},
   "outputs": [],
   "source": []
  },
  {
   "cell_type": "markdown",
   "id": "6d78c1a5",
   "metadata": {},
   "source": [
    "### Rule 14 (affix می)"
   ]
  },
  {
   "cell_type": "code",
   "execution_count": 61,
   "id": "bd037b7c",
   "metadata": {},
   "outputs": [],
   "source": [
    "     \n",
    "tests = [#{'farsi': 'می‌تواند', 'trans': 'mitavAnad', 'pos': 'Verb'},\n",
    "         {'farsi': 'چندمی', 'trans': 'Candomi'}#, \n",
    "        ]\n",
    "\n",
    "for t in tests:\n",
    "    # print(m0_9.rule_14(t['farsi'], t.get('pos', None)))\n",
    "    assert m0_9.rule_14(t['farsi'], t.get('pos', None)) == t['trans']\n"
   ]
  },
  {
   "cell_type": "code",
   "execution_count": null,
   "id": "224bde0e",
   "metadata": {},
   "outputs": [],
   "source": []
  },
  {
   "cell_type": "markdown",
   "id": "507bfbf3",
   "metadata": {},
   "source": [
    "### Rule 15 (affix آ)"
   ]
  },
  {
   "cell_type": "code",
   "execution_count": 62,
   "id": "2ef8d4e3",
   "metadata": {},
   "outputs": [],
   "source": [
    "\n",
    "text = 'بیا در آغوشم بیارام و دیگران را نیازار'\n",
    "# 'biyA dar 'AquSam biyArAm va digarAn rA nayAzAr'\n",
    "#assets.tagger.tag(assets.word_tokenize(text))"
   ]
  },
  {
   "cell_type": "code",
   "execution_count": null,
   "id": "3ab60022",
   "metadata": {},
   "outputs": [],
   "source": []
  },
  {
   "cell_type": "markdown",
   "id": "32c9809b",
   "metadata": {},
   "source": [
    "### Rule 16 (affix ون)"
   ]
  },
  {
   "cell_type": "code",
   "execution_count": 63,
   "id": "76d7fc3f",
   "metadata": {},
   "outputs": [],
   "source": [
    "        \n",
    "tests = []#{'farsi': 'سرنگون', 'trans': 'sarnegun', 'pos': 'Adjective'},\n",
    "         #{'farsi': 'حواریون', 'trans': 'havAriyun', 'pos': 'Verb'},\n",
    "         #{'farsi': 'منافقون', 'trans': 'monAfequn', 'pos': 'Noun'}]\n",
    "\n",
    "\n",
    "for t in tests:\n",
    "    #print(m0_9.rule_16(t['farsi'], t.get('pos', None)))\n",
    "    assert m0_9.rule_16(t['farsi'], t.get('pos', None)) == t['trans']\n"
   ]
  },
  {
   "cell_type": "code",
   "execution_count": null,
   "id": "be3ff345",
   "metadata": {},
   "outputs": [],
   "source": []
  },
  {
   "cell_type": "markdown",
   "id": "49736a42",
   "metadata": {},
   "source": [
    "### Rule 17 (affix ید)"
   ]
  },
  {
   "cell_type": "code",
   "execution_count": 64,
   "id": "9185dd98",
   "metadata": {},
   "outputs": [],
   "source": [
    "    \n",
    "tests = [{'farsi': 'رفتید', 'trans': 'raftid', 'pos': 'Verb'},\n",
    "         {'farsi': 'بگوید', 'trans': 'beguyad', 'pos': 'Verb'},\n",
    "         #{'farsi': 'می‌آید', 'trans': 'beguyad', 'pos': 'Verb'}\n",
    "        ]\n",
    "\n",
    "for t in tests:\n",
    "    assert m0_9.rule_17(t['farsi'], t.get('pos', None)) == t['trans']\n"
   ]
  },
  {
   "cell_type": "code",
   "execution_count": null,
   "id": "478a90a5",
   "metadata": {},
   "outputs": [],
   "source": []
  },
  {
   "cell_type": "markdown",
   "id": "42b50edb",
   "metadata": {},
   "source": [
    "### Rule 18 (verb with یم)"
   ]
  },
  {
   "cell_type": "code",
   "execution_count": 65,
   "id": "c62a7ea2",
   "metadata": {},
   "outputs": [],
   "source": [
    "\n",
    "tests = [{'farsi': 'بپریم', 'trans': 'beparim', 'pos': 'Verb'},\n",
    "         {'farsi': 'رفتیم', 'trans': 'raftim', 'pos': 'Verb'},\n",
    "         {'farsi': 'خدایم', 'trans': 'xodAyam', 'pos': 'Noun'}]\n",
    "\n",
    "for t in tests:\n",
    "    assert m0_9.process_wrd(t['farsi'], t.get('pos', None)) == t['trans']\n"
   ]
  },
  {
   "cell_type": "code",
   "execution_count": null,
   "id": "8a90b5ed",
   "metadata": {},
   "outputs": [],
   "source": []
  },
  {
   "cell_type": "markdown",
   "id": "50bb7e78",
   "metadata": {},
   "source": [
    "### Rule 19 (Semispace u200c, improve imlementation in 0.9)"
   ]
  },
  {
   "cell_type": "code",
   "execution_count": 66,
   "id": "65935ce2",
   "metadata": {},
   "outputs": [],
   "source": [
    "\n",
    "tests = [#{'farsi': 'دیده_می\\u200cشود', 'trans': 'dide miSavad', 'pos': 'Verb'},\n",
    "         {'farsi': 'بی\\u200cبصیرتی\\u200cهایی', 'trans': 'bibasiratihAyi', 'pos': 'Noun'},\n",
    "         {'farsi': 'چراغ‌علی', 'trans': \"CerAq'ali\", 'pos': 'Noun'}]\n",
    "\n",
    "for t in tests:\n",
    "    #print(rule_19(t['farsi'], t['pos']))\n",
    "    assert m0_9.rule_19(t['farsi'], t['pos']) == t['trans']\n"
   ]
  },
  {
   "cell_type": "code",
   "execution_count": null,
   "id": "6626eb1f",
   "metadata": {},
   "outputs": [],
   "source": []
  },
  {
   "cell_type": "markdown",
   "id": "61a6fee1",
   "metadata": {},
   "source": [
    "### Rule 20 (Recursive search, improve implemented in 0.9)"
   ]
  },
  {
   "cell_type": "code",
   "execution_count": 67,
   "id": "2b5eca86",
   "metadata": {},
   "outputs": [],
   "source": [
    "\"\"\"\n",
    "def recu_affix_wrd(wrd):\n",
    "    \n",
    "    suffix, stem = '', ''\n",
    "    for i in range(len(wrd), 0, -1):\n",
    "        if assets.df_Affixes[assets.df_Affixes['Affix']==wrd[:i]].shape[0] > 0:\n",
    "            l_search = assets.df_Affixes[assets.df_Affixes['Affix']==wrd[:i]].to_dict('records')\n",
    "            stem = m0_9.votation_entries(l_search, entries=False)\n",
    "            suffix = recu_affix_wrd(wrd[i:])\n",
    "            break\n",
    "\n",
    "    return stem + suffix\n",
    "\n",
    "\n",
    "tests = [{'farsi': 'هایی', 'trans': 'hAyi'},\n",
    "         {'farsi': 'هایتان', 'trans': 'hAyetAn'}]\n",
    "\n",
    "for t in tests:\n",
    "    assert l0_9.recu_affix_wrd(t['farsi']) == t['trans']\n",
    "\"\"\";"
   ]
  },
  {
   "cell_type": "code",
   "execution_count": null,
   "id": "fd673775",
   "metadata": {},
   "outputs": [],
   "source": []
  },
  {
   "cell_type": "markdown",
   "id": "a87eb4b9",
   "metadata": {},
   "source": [
    "### Rule 21 (affix ن)"
   ]
  },
  {
   "cell_type": "code",
   "execution_count": 68,
   "id": "aa669874",
   "metadata": {},
   "outputs": [],
   "source": [
    "\n",
    "tests = [{'farsi': 'نخوردن', 'trans': 'naxordan'},\n",
    "         {'farsi': 'نخوابیدن', 'trans': 'naxAbidan'},\n",
    "         #{'farsi': 'نمان', 'trans': 'namAn'}\n",
    "         ]\n",
    "\n",
    "for t in tests:\n",
    "    #print(rule_21(t['farsi']))\n",
    "    assert m0_9.rule_21(t['farsi']) == t['trans']\n"
   ]
  },
  {
   "cell_type": "code",
   "execution_count": null,
   "id": "08867f86",
   "metadata": {},
   "outputs": [],
   "source": []
  },
  {
   "cell_type": "markdown",
   "id": "45dda2dd",
   "metadata": {},
   "source": [
    "### Rule 22 (affixes بی and نی)"
   ]
  },
  {
   "cell_type": "code",
   "execution_count": 69,
   "id": "6c733150",
   "metadata": {},
   "outputs": [],
   "source": [
    "\n",
    "tests = [{'farsi': 'بیا', 'trans': 'biyA'},\n",
    "         #{'farsi': 'نیازار', 'trans': 'nayAzAr'},\n",
    "         #{'farsi': 'نمان', 'trans': 'namAn'}\n",
    "         #{'farsi': 'بیارام', 'trans': 'biyArAm'}\n",
    "         ]\n",
    "\n",
    "for t in tests:\n",
    "    # print(rule_22(t['farsi']))\n",
    "    assert m0_9.rule_22(t['farsi']) == t['trans']\n"
   ]
  },
  {
   "cell_type": "code",
   "execution_count": null,
   "id": "26f7fd5b",
   "metadata": {},
   "outputs": [],
   "source": []
  },
  {
   "cell_type": "markdown",
   "id": "2717ce3e",
   "metadata": {},
   "source": [
    "### Rule 23 (root of the verb is رو)"
   ]
  },
  {
   "cell_type": "code",
   "execution_count": 70,
   "id": "1b393098",
   "metadata": {},
   "outputs": [],
   "source": [
    "    \n",
    "tests = [{'farsi': 'نرو', 'trans': 'naro'},\n",
    "         {'farsi': 'برو', 'trans': 'bero'}]\n",
    "\n",
    "for t in tests:\n",
    "    assert m0_9.rule_23(t['farsi']) == t['trans']\n"
   ]
  },
  {
   "cell_type": "code",
   "execution_count": null,
   "id": "8c766e27",
   "metadata": {},
   "outputs": [],
   "source": []
  },
  {
   "cell_type": "markdown",
   "id": "b928ba2a",
   "metadata": {},
   "source": [
    "### Rule 24 (Recursion, improve v0.9)"
   ]
  },
  {
   "cell_type": "code",
   "execution_count": 71,
   "id": "3755019c",
   "metadata": {},
   "outputs": [],
   "source": [
    "\n",
    "tests = [{'farsi': 'فیسبوک', 'trans': 'fisbuke'}]\n",
    "\n",
    "for t in tests:\n",
    "    assert l0_9.recu_entries(t['farsi']) == t['trans']\n",
    "\n",
    "tests = [{'farsi': 'ازار', 'trans': 'AzAr'}]\n",
    "\n",
    "for t in tests:\n",
    "    assert l0_9.recu_affixes(t['farsi']) == t['trans']\n"
   ]
  },
  {
   "cell_type": "code",
   "execution_count": null,
   "id": "d79aa0bc",
   "metadata": {},
   "outputs": [],
   "source": []
  }
 ],
 "metadata": {
  "kernelspec": {
   "display_name": "Python 3",
   "language": "python",
   "name": "python3"
  },
  "language_info": {
   "codemirror_mode": {
    "name": "ipython",
    "version": 3
   },
   "file_extension": ".py",
   "mimetype": "text/x-python",
   "name": "python",
   "nbconvert_exporter": "python",
   "pygments_lexer": "ipython3",
   "version": "3.6.13"
  }
 },
 "nbformat": 4,
 "nbformat_minor": 5
}
