{
 "cells": [
  {
   "cell_type": "code",
   "execution_count": 14,
   "id": "07ce67a0",
   "metadata": {},
   "outputs": [],
   "source": [
    "import lib.get_assets as assets"
   ]
  },
  {
   "cell_type": "code",
   "execution_count": 2,
   "id": "876bc475",
   "metadata": {},
   "outputs": [],
   "source": [
    "import lib.model0_9 as m0_9"
   ]
  },
  {
   "cell_type": "code",
   "execution_count": null,
   "id": "e7d86f40",
   "metadata": {},
   "outputs": [],
   "source": []
  },
  {
   "cell_type": "code",
   "execution_count": null,
   "id": "f5d40af4",
   "metadata": {},
   "outputs": [],
   "source": []
  },
  {
   "cell_type": "markdown",
   "id": "74dd4ae5",
   "metadata": {},
   "source": [
    "### Rule 1"
   ]
  },
  {
   "cell_type": "code",
   "execution_count": 3,
   "id": "bc27b416",
   "metadata": {},
   "outputs": [],
   "source": [
    "\n",
    "tests = [{'farsi': 'ییلاق‌نشین', 'trans': 'yeylAqneSin'},\n",
    "         {'farsi': 'ییدیش', 'trans': 'yidiS'},\n",
    "         {'farsi': 'یوونتوس', 'trans': 'yuventus'},\n",
    "         {'farsi': 'یونید', 'trans': 'یونید'} # case verb\n",
    "        ]\n",
    "\n",
    "for t in tests:   \n",
    "    assert m0_9.general_search(t['farsi'], pos_neg='Verb') == t['trans']\n"
   ]
  },
  {
   "cell_type": "code",
   "execution_count": null,
   "id": "cf71ac43",
   "metadata": {},
   "outputs": [],
   "source": []
  },
  {
   "cell_type": "markdown",
   "id": "c8ea2fb4",
   "metadata": {},
   "source": [
    "### Rule 2 (Nouns)"
   ]
  },
  {
   "cell_type": "code",
   "execution_count": 4,
   "id": "1e70bac7",
   "metadata": {},
   "outputs": [],
   "source": [
    "\n",
    "tests = [{'farsi': 'پیامبرت', 'trans': 'payAmbarat'},\n",
    "         {'farsi': 'مزايایی', 'trans': 'mazAyAyi'},\n",
    "         {'farsi': 'بی شرف', 'trans': 'bi Saraf'},\n",
    "         {'farsi': 'بی عقل', 'trans':'bi \\'aql'}]\n",
    "\n",
    "for t in tests:\n",
    "    assert m0_9.run_transcription_0(t['farsi']) == t['trans']\n"
   ]
  },
  {
   "cell_type": "code",
   "execution_count": null,
   "id": "8708fd9d",
   "metadata": {},
   "outputs": [],
   "source": []
  },
  {
   "cell_type": "markdown",
   "id": "a309af8a",
   "metadata": {},
   "source": [
    "### Rule 3 (Verbs basis)"
   ]
  },
  {
   "cell_type": "code",
   "execution_count": 5,
   "id": "4131717c",
   "metadata": {},
   "outputs": [],
   "source": [
    "\n",
    "tests = [{'farsi': 'بخواهند بروند', 'trans': 'bexAhand beravand'},\n",
    "         # {'farsi': 'می‌تواند بخوابد', 'trans': 'mitavAnad bexAbad'}, # \\u200c\n",
    "         # {'farsi': 'نشد بپریم', 'trans': 'naSod beparim'}, # می\n",
    "         # {'farsi': 'می روید', 'trans': 'miravid'} # \n",
    "        # {'farsi': 'می ترسد', 'trans': 'mitarsad'}\n",
    "        ]\n",
    "\n",
    "for t in tests:\n",
    "    assert m0_9.run_transcription_0(t['farsi']) == t['trans']\n"
   ]
  },
  {
   "cell_type": "code",
   "execution_count": null,
   "id": "6dc2caa7",
   "metadata": {},
   "outputs": [],
   "source": []
  },
  {
   "cell_type": "markdown",
   "id": "516a75a9",
   "metadata": {},
   "source": [
    "### Rule 4 (Frequency based prioritization for collisions)"
   ]
  },
  {
   "cell_type": "code",
   "execution_count": 6,
   "id": "744a265a",
   "metadata": {},
   "outputs": [],
   "source": [
    "\n",
    "tests = [{'farsi': 'ی', 'trans': 'ye'}]\n",
    "\n",
    "for t in tests:\n",
    "    assert m0_9.general_search(t['farsi']) == t['trans']\n",
    "\n",
    "    \n",
    "tests = [{'farsi': 'ی', 'trans': 'i'}]\n",
    "for t in tests:\n",
    "    assert m0_9.affix_search(t['farsi']) == t['trans']\n"
   ]
  },
  {
   "cell_type": "code",
   "execution_count": null,
   "id": "8b0b3333",
   "metadata": {},
   "outputs": [],
   "source": []
  },
  {
   "cell_type": "markdown",
   "id": "434c50be",
   "metadata": {},
   "source": [
    "### Rule 5 (Verb _ as خواهند_كر)"
   ]
  },
  {
   "cell_type": "code",
   "execution_count": 8,
   "id": "c7d40975",
   "metadata": {},
   "outputs": [],
   "source": [
    "\n",
    "tests = [{'farsi': 'خواهند_كرد', 'trans': 'xAhand kard'}]\n",
    "\n",
    "for t in tests:\n",
    "    assert m0_9.process_verb(m0_9.normalise(t['farsi'])) == t['trans']\n",
    "\n",
    "tests = [{'farsi': 'خواهند كرد', 'trans': 'xAhand kard'},\n",
    "         {'farsi': 'بخواهند بروند', 'trans': 'bexAhand beravand'}]\n",
    "\n",
    "for t in tests:\n",
    "    assert m0_9.run_transcription_0(t['farsi']) == t['trans']\n",
    "    "
   ]
  },
  {
   "cell_type": "code",
   "execution_count": null,
   "id": "7adfb46d",
   "metadata": {},
   "outputs": [],
   "source": []
  },
  {
   "cell_type": "markdown",
   "id": "705bc115",
   "metadata": {},
   "source": [
    "### Rule 6 (normalisation ي, ك)"
   ]
  },
  {
   "cell_type": "code",
   "execution_count": 9,
   "id": "abafaa98",
   "metadata": {},
   "outputs": [],
   "source": [
    "\n",
    "tests = [{'farsi': 'گزارشي', 'trans': 'گزارشی'},\n",
    "         {'farsi': 'ك', 'trans': 'ک'}]\n",
    "\n",
    "for t in tests:\n",
    "    assert m0_9.normalise(t['farsi']) == t['trans']\n"
   ]
  },
  {
   "cell_type": "code",
   "execution_count": null,
   "id": "c9dddcdd",
   "metadata": {},
   "outputs": [],
   "source": []
  },
  {
   "cell_type": "markdown",
   "id": "7df932ee",
   "metadata": {},
   "source": [
    "### Rule 7 (affix ی)"
   ]
  },
  {
   "cell_type": "code",
   "execution_count": null,
   "id": "aeb88a3c",
   "metadata": {},
   "outputs": [],
   "source": []
  },
  {
   "cell_type": "code",
   "execution_count": null,
   "id": "03102176",
   "metadata": {},
   "outputs": [],
   "source": []
  },
  {
   "cell_type": "markdown",
   "id": "d372ed68",
   "metadata": {},
   "source": [
    "### Rule 8 (letter ۀ)"
   ]
  },
  {
   "cell_type": "code",
   "execution_count": null,
   "id": "f64aea0e",
   "metadata": {},
   "outputs": [],
   "source": []
  },
  {
   "cell_type": "code",
   "execution_count": null,
   "id": "17662182",
   "metadata": {},
   "outputs": [],
   "source": []
  },
  {
   "cell_type": "markdown",
   "id": "2d9e191a",
   "metadata": {},
   "source": [
    "### Rule 9 (collision affix ات)"
   ]
  },
  {
   "cell_type": "code",
   "execution_count": 10,
   "id": "88522bbb",
   "metadata": {},
   "outputs": [],
   "source": [
    "\n",
    "def rule_9(wrd, pos=None):\n",
    "    if not 'ات' in wrd:\n",
    "        return wrd\n",
    "    else:\n",
    "        if 'ات‌' in wrd:\n",
    "            d_affixes = m0_9.get_affixes(wrd, 'ات‌') #, stem)\n",
    "            stem = 'At'\n",
    "        elif '\\u200cات' in wrd:\n",
    "            d_affixes = m0_9.get_affixes(wrd, '\\u200cات')\n",
    "            stem = '\\'at'\n",
    "        else:\n",
    "            d_affixes = m0_9.get_affixes(wrd, 'ات')\n",
    "            stem = 'At'\n",
    "\n",
    "    if len(d_affixes['prefix']) > len(d_affixes['suffix']):\n",
    "        return m0_9.general_search(d_affixes['prefix'], pos_pos=pos) + stem + m0_9.affix_search(d_affixes['suffix'] )\n",
    "    else:\n",
    "        return m0_9.affix_search(d_affixes['prefix']) + stem + m0_9.general_search(d_affixes['suffix'], pos_pos=pos)\n",
    "\n",
    "\n",
    "tests = [{'farsi': 'مزخرفات', 'trans': 'mozaxrafAt'},\n",
    "         {'farsi': 'خاطرات‌مان', 'trans': 'xAterAtemAn'},\n",
    "         {'farsi': 'عمه‌ات', 'trans': \"'amme'at\"}]\n",
    "\n",
    "\n",
    "for t in tests:\n",
    "    assert rule_9(m0_9.normalise(t['farsi'])) == t['trans']\n"
   ]
  },
  {
   "cell_type": "code",
   "execution_count": null,
   "id": "ba31ed3d",
   "metadata": {},
   "outputs": [],
   "source": []
  },
  {
   "cell_type": "markdown",
   "id": "70be2230",
   "metadata": {},
   "source": [
    "### Rule 10 (collision affix ان)"
   ]
  },
  {
   "cell_type": "code",
   "execution_count": 52,
   "id": "ebd39d44",
   "metadata": {},
   "outputs": [],
   "source": [
    "\n",
    "def rule_10(wrd, pos=None):\n",
    "    if not 'ان' in wrd:\n",
    "        return wrd\n",
    "    else:\n",
    "        if len(wrd) == 2:\n",
    "            return 'An'\n",
    "        elif wrd[3] == 'ی':\n",
    "            return m0_9.general_search(wrd[:-2], pos_pos=pos) + 'yAn'\n",
    "        else: \n",
    "            return m0_9.general_search(wrd[:-2], pos_pos=pos) + 'An'\n",
    "\n",
    "        \n",
    "tests = [{'farsi': 'بانیان', 'trans': 'bAniyAn', 'pos': 'Noun'},\n",
    "         {'farsi': 'دیگران', 'trans': 'digarAn', 'pos': 'Preposition'}]\n",
    "\n",
    "\n",
    "for t in tests:\n",
    "    assert rule_10(m0_9.normalise(t['farsi'])) == t['trans']\n"
   ]
  },
  {
   "cell_type": "code",
   "execution_count": null,
   "id": "ff37011c",
   "metadata": {},
   "outputs": [],
   "source": []
  },
  {
   "cell_type": "markdown",
   "id": "9293868f",
   "metadata": {},
   "source": [
    "### Rule 11 (collision affix ش)"
   ]
  },
  {
   "cell_type": "code",
   "execution_count": 11,
   "id": "a506bd12",
   "metadata": {},
   "outputs": [],
   "source": [
    "\n",
    "def rule_11(wrd, pos=None):\n",
    "    if 'ش' != wrd[-1]:\n",
    "        return wrd\n",
    "    else:\n",
    "        if pos == 'Noun':\n",
    "            return m0_9.process_noun(wrd[:-1])+'aS'\n",
    "        elif pos == 'Verb':\n",
    "            return m0_9.process_verb(wrd[:-1])+'eS'\n",
    "        else:\n",
    "            return m0_9.general_search(wrd[:-1], pos_pos=pos)+'eS'\n",
    "\n",
    "tests = [{'farsi': 'وسایلش', 'trans':'vasAyelaS', 'pos': 'Noun'},\n",
    "         {'farsi': 'بردندش', 'trans': 'bordandeS', 'pos': 'Verb'}]\n",
    "\n",
    "for t in tests:\n",
    "    assert rule_11(t['farsi'], t['pos']) == t['trans']\n"
   ]
  },
  {
   "cell_type": "code",
   "execution_count": null,
   "id": "fc8b787e",
   "metadata": {},
   "outputs": [],
   "source": []
  },
  {
   "cell_type": "markdown",
   "id": "0782d384",
   "metadata": {},
   "source": [
    "### Rule 12 (affix م)"
   ]
  },
  {
   "cell_type": "code",
   "execution_count": 65,
   "id": "e926a7c4",
   "metadata": {},
   "outputs": [],
   "source": [
    "\n",
    "\n",
    "tests = [{'farsi': 'چندم', 'trans':'Candom', 'pos': 'Number'}]\n",
    "\n",
    "for t in tests:\n",
    "    assert m0_9.process_wrd(t['farsi'], t['pos']) == t['trans']\n"
   ]
  },
  {
   "cell_type": "code",
   "execution_count": null,
   "id": "84d31425",
   "metadata": {},
   "outputs": [],
   "source": []
  },
  {
   "cell_type": "markdown",
   "id": "8cbf34f6",
   "metadata": {},
   "source": [
    "### Rule 13 (affix مان)"
   ]
  },
  {
   "cell_type": "code",
   "execution_count": 66,
   "id": "e3dffb90",
   "metadata": {},
   "outputs": [],
   "source": [
    "w = 'مان'"
   ]
  },
  {
   "cell_type": "code",
   "execution_count": 69,
   "id": "1b937b8d",
   "metadata": {},
   "outputs": [
    {
     "data": {
      "text/html": [
       "<div>\n",
       "<style scoped>\n",
       "    .dataframe tbody tr th:only-of-type {\n",
       "        vertical-align: middle;\n",
       "    }\n",
       "\n",
       "    .dataframe tbody tr th {\n",
       "        vertical-align: top;\n",
       "    }\n",
       "\n",
       "    .dataframe thead th {\n",
       "        text-align: right;\n",
       "    }\n",
       "</style>\n",
       "<table border=\"1\" class=\"dataframe\">\n",
       "  <thead>\n",
       "    <tr style=\"text-align: right;\">\n",
       "      <th></th>\n",
       "      <th>id</th>\n",
       "      <th>Affix</th>\n",
       "      <th>PhonologicalForm</th>\n",
       "      <th>نام وند</th>\n",
       "      <th>کد معنا</th>\n",
       "      <th>جایگاه</th>\n",
       "      <th>نوع</th>\n",
       "      <th>طرح تکیه</th>\n",
       "      <th>واکه</th>\n",
       "      <th>درج واج در وندافزایی</th>\n",
       "      <th>تغییرات آوایی در وندافزایی</th>\n",
       "      <th>SynCatCode</th>\n",
       "      <th>مقولة ستاک+وند</th>\n",
       "      <th>هم‌نویسه با واحد واژگانی</th>\n",
       "      <th>هجاسازی مجدد</th>\n",
       "    </tr>\n",
       "  </thead>\n",
       "  <tbody>\n",
       "    <tr>\n",
       "      <th>99</th>\n",
       "      <td>15</td>\n",
       "      <td>مان</td>\n",
       "      <td>emAn</td>\n",
       "      <td>PEC</td>\n",
       "      <td>03</td>\n",
       "      <td>2</td>\n",
       "      <td>0</td>\n",
       "      <td>W</td>\n",
       "      <td>0</td>\n",
       "      <td></td>\n",
       "      <td></td>\n",
       "      <td>N1</td>\n",
       "      <td></td>\n",
       "      <td></td>\n",
       "      <td>False</td>\n",
       "    </tr>\n",
       "    <tr>\n",
       "      <th>100</th>\n",
       "      <td>129</td>\n",
       "      <td>مان</td>\n",
       "      <td>mAn</td>\n",
       "      <td></td>\n",
       "      <td></td>\n",
       "      <td></td>\n",
       "      <td>1</td>\n",
       "      <td>S</td>\n",
       "      <td>0</td>\n",
       "      <td></td>\n",
       "      <td></td>\n",
       "      <td></td>\n",
       "      <td></td>\n",
       "      <td></td>\n",
       "      <td>False</td>\n",
       "    </tr>\n",
       "  </tbody>\n",
       "</table>\n",
       "</div>"
      ],
      "text/plain": [
       "      id Affix PhonologicalForm نام وند کد معنا جایگاه نوع طرح تکیه واکه  \\\n",
       "99    15   مان             emAn     PEC      03      2   0        W    0   \n",
       "100  129   مان              mAn                          1        S    0   \n",
       "\n",
       "    درج واج در وندافزایی تغییرات آوایی در وندافزایی SynCatCode مقولة ستاک+وند  \\\n",
       "99                                                          N1                  \n",
       "100                                                                             \n",
       "\n",
       "    هم‌نویسه با واحد واژگانی هجاسازی مجدد  \n",
       "99                                  False  \n",
       "100                                 False  "
      ]
     },
     "execution_count": 69,
     "metadata": {},
     "output_type": "execute_result"
    }
   ],
   "source": [
    "affix = 'مان'\n",
    "assets.df_Affixes[assets.df_Affixes['Affix']==affix]\n",
    "#text = 'برای‌مان همه‌ی داستان قهر کردن‌مان و باقی خاطرات‌مان مسخره بود'\n",
    "#assets.tagger.tag(assets.word_tokenize(text))"
   ]
  },
  {
   "cell_type": "code",
   "execution_count": null,
   "id": "9876dbad",
   "metadata": {},
   "outputs": [],
   "source": []
  },
  {
   "cell_type": "markdown",
   "id": "6d78c1a5",
   "metadata": {},
   "source": [
    "### Rule 14 (affix می)"
   ]
  },
  {
   "cell_type": "code",
   "execution_count": 12,
   "id": "bd037b7c",
   "metadata": {},
   "outputs": [],
   "source": [
    "\n",
    "def rule_14(wrd, pos=None):\n",
    "    if not 'می' in wrd:\n",
    "        return wrd\n",
    "    else:\n",
    "        if 'می‌' == wrd[:3]:\n",
    "            return 'mi'+m0_9.process_wrd(wrd[3:], pos)\n",
    "        elif 'می' == wrd[-2:]:\n",
    "            return m0_9.general_search(wrd[:-2]) + 'omi'\n",
    "        \n",
    "tests = [{'farsi': 'می‌تواند', 'trans': 'mitavAnad', 'pos': 'Verb'},\n",
    "         {'farsi': 'چندمی', 'trans': 'Candomi'}]\n",
    "\n",
    "for t in tests:\n",
    "    assert rule_14(t['farsi'], t.get('pos', None)) == t['trans']\n"
   ]
  },
  {
   "cell_type": "code",
   "execution_count": null,
   "id": "224bde0e",
   "metadata": {},
   "outputs": [],
   "source": []
  },
  {
   "cell_type": "markdown",
   "id": "507bfbf3",
   "metadata": {},
   "source": [
    "### Rule 15 (affix آ)"
   ]
  },
  {
   "cell_type": "code",
   "execution_count": null,
   "id": "2ef8d4e3",
   "metadata": {},
   "outputs": [],
   "source": []
  },
  {
   "cell_type": "code",
   "execution_count": null,
   "id": "fe50438d",
   "metadata": {},
   "outputs": [],
   "source": []
  },
  {
   "cell_type": "markdown",
   "id": "32c9809b",
   "metadata": {},
   "source": [
    "### Rule 16 (affix ون)"
   ]
  },
  {
   "cell_type": "code",
   "execution_count": null,
   "id": "5108ce08",
   "metadata": {},
   "outputs": [],
   "source": []
  },
  {
   "cell_type": "code",
   "execution_count": null,
   "id": "84013f4f",
   "metadata": {},
   "outputs": [],
   "source": []
  },
  {
   "cell_type": "markdown",
   "id": "49736a42",
   "metadata": {},
   "source": [
    "### Rule 17 (affix ید)"
   ]
  },
  {
   "cell_type": "code",
   "execution_count": 15,
   "id": "9185dd98",
   "metadata": {},
   "outputs": [],
   "source": [
    "\n",
    "def rule_17(wrd, pos=None):\n",
    "    if not 'ید' in wrd:\n",
    "        return wrd\n",
    "    elif pos == 'Verb':\n",
    "        l_lemma = [w for w in assets.lemmatizer.lemmatize(wrd).split('#') if w == wrd[:len(w)]]\n",
    "        if len(l_lemma) > 0:\n",
    "            # print(1)\n",
    "            return m0_9.process_verb(wrd[:-len('ید')]) + 'id'\n",
    "        else:\n",
    "            return m0_9.process_verb(wrd[:-len('ید')])+'yad'\n",
    "    else:\n",
    "        return wrd # ???\n",
    "    \n",
    "tests = [{'farsi': 'رفتید', 'trans': 'raftid', 'pos': 'Verb'},\n",
    "         {'farsi': 'بگوید', 'trans': 'beguyad', 'pos': 'Verb'},\n",
    "         #{'farsi': 'می‌آید', 'trans': 'beguyad', 'pos': 'Verb'}\n",
    "        ]\n",
    "\n",
    "for t in tests:\n",
    "    assert rule_17(t['farsi'], t.get('pos', None)) == t['trans']\n"
   ]
  },
  {
   "cell_type": "code",
   "execution_count": null,
   "id": "478a90a5",
   "metadata": {},
   "outputs": [],
   "source": []
  },
  {
   "cell_type": "markdown",
   "id": "42b50edb",
   "metadata": {},
   "source": [
    "### Rule 18 (verb with یم)"
   ]
  },
  {
   "cell_type": "code",
   "execution_count": 16,
   "id": "c62a7ea2",
   "metadata": {},
   "outputs": [],
   "source": [
    "\n",
    "tests = [{'farsi': 'بپریم', 'trans': 'beparim', 'pos': 'Verb'},\n",
    "         {'farsi': 'رفتیم', 'trans': 'raftim', 'pos': 'Verb'},\n",
    "         {'farsi': 'خدایم', 'trans': 'xodAyam', 'pos': 'Noun'}]\n",
    "\n",
    "for t in tests:\n",
    "    assert m0_9.process_wrd(t['farsi'], t.get('pos', None)) == t['trans']\n"
   ]
  },
  {
   "cell_type": "code",
   "execution_count": null,
   "id": "8a90b5ed",
   "metadata": {},
   "outputs": [],
   "source": []
  },
  {
   "cell_type": "markdown",
   "id": "50bb7e78",
   "metadata": {},
   "source": [
    "### Rule 19 (Semispace u200c, improve imlementation in 0.9)"
   ]
  },
  {
   "cell_type": "code",
   "execution_count": 97,
   "id": "033bdbd6",
   "metadata": {},
   "outputs": [
    {
     "name": "stdout",
     "output_type": "stream",
     "text": [
      "چراغ‌علی\n"
     ]
    }
   ],
   "source": [
    "print('چراغ\\u200cعلی')"
   ]
  },
  {
   "cell_type": "code",
   "execution_count": null,
   "id": "feedad72",
   "metadata": {},
   "outputs": [],
   "source": [
    "'چراغ‌علی'\n",
    "'CerAq\\'ali'"
   ]
  },
  {
   "cell_type": "code",
   "execution_count": 77,
   "id": "b02ec58d",
   "metadata": {},
   "outputs": [],
   "source": [
    "#def handle_u200c_exception(wrd):\n",
    "wrd = 'چراغ\\u200cعلی'\n",
    "stem = '\\u200c'\n",
    "d_affixes = m0_9.get_affixes(wrd, stem)\n",
    "d_affixes\n",
    "\"\"\"\n",
    "    if sum([d_affixes['suffix'][-len(s):]==s for s in ['ها']]) > 0:\n",
    "        #return flow_nouns(d_affixes['prefix']) + affix_choice_model(d_affixes['suffix'])\n",
    "        return flow_nouns(d_affixes['prefix']) + affix_choice_model(d_affixes['suffix'], 'Noun')\n",
    "    \n",
    "    if sum([d_affixes['prefix'][-len(s):]==s for s in ['می', 'نمی']]) > 0:\n",
    "        # print(1)\n",
    "        #return affix_choice_model(d_affixes['prefix']) + flow_verb(d_affixes['suffix']) \n",
    "        return affix_choice_model(d_affixes['prefix'], 'Verb') + flow_verb(d_affixes['suffix'])    \n",
    "    \n",
    "    # print('EXCEPT!!!!!!!!', wrd)\n",
    "    # print(1 if len(d_affixes['prefix']) >  len(d_affixes['suffix']) else 2)\n",
    "    #return flow_nouns(d_affixes['prefix']) + affix_choice_model(d_affixes['suffix']) \\\n",
    "    #    if len(d_affixes['prefix']) >  len(d_affixes['suffix']) else \\\n",
    "    #    affix_choice_model(d_affixes['prefix'])+flow_nouns(d_affixes['suffix'])\n",
    "    return flow_nouns(d_affixes['prefix']) + general_search(d_affixes['suffix']) \\\n",
    "        if len(d_affixes['prefix']) >  len(d_affixes['suffix']) else \\\n",
    "        general_search(d_affixes['prefix'])+flow_nouns(d_affixes['suffix'])\n",
    "\"\"\";\n"
   ]
  },
  {
   "cell_type": "code",
   "execution_count": 124,
   "id": "912bcf6f",
   "metadata": {},
   "outputs": [],
   "source": [
    "wrd = 'بی\\u200cبصیرتی\\u200cهایی'\n",
    "'bibasiratihAyi'"
   ]
  },
  {
   "cell_type": "code",
   "execution_count": 126,
   "id": "6d51d475",
   "metadata": {},
   "outputs": [
    {
     "data": {
      "text/plain": [
       "['بی', 'بصیرتی', 'هایی']"
      ]
     },
     "execution_count": 126,
     "metadata": {},
     "output_type": "execute_result"
    }
   ],
   "source": [
    "l_wrd = wrd.split('\\u200c')\n",
    "l_wrd"
   ]
  },
  {
   "cell_type": "code",
   "execution_count": 145,
   "id": "8d2d32a4",
   "metadata": {},
   "outputs": [
    {
     "data": {
      "text/plain": [
       "'bibasirati'"
      ]
     },
     "execution_count": 145,
     "metadata": {},
     "output_type": "execute_result"
    }
   ],
   "source": [
    "m0_9.general_search('بی') + m0_9.process_noun('بصیرتی')"
   ]
  },
  {
   "cell_type": "code",
   "execution_count": 147,
   "id": "24ae5a4f",
   "metadata": {},
   "outputs": [],
   "source": [
    "#assets.df_Entries[assets.df_Entries['WrittenForm']=='یی'], assets.df_Entries[assets.df_Entries['WrittenForm']=='ها']"
   ]
  },
  {
   "cell_type": "code",
   "execution_count": 148,
   "id": "1fe393ea",
   "metadata": {},
   "outputs": [
    {
     "data": {
      "text/plain": [
       "''"
      ]
     },
     "execution_count": 148,
     "metadata": {},
     "output_type": "execute_result"
    }
   ],
   "source": [
    "assets.stemmer.stem('هایی')"
   ]
  },
  {
   "cell_type": "code",
   "execution_count": 143,
   "id": "2363d7ab",
   "metadata": {},
   "outputs": [
    {
     "data": {
      "text/plain": [
       "(     id Affix PhonologicalForm نام وند کد معنا جایگاه نوع طرح تکیه واکه  \\\n",
       " 163  10    یی               yi     INM      01      2   0        W    1   \n",
       " 164  35    یی               yi     COC      05      3   0        W    1   \n",
       " \n",
       "     درج واج در وندافزایی تغییرات آوایی در وندافزایی SynCatCode مقولة ستاک+وند  \\\n",
       " 163                                                         N1                  \n",
       " 164                                                         N1                  \n",
       " \n",
       "     هم‌نویسه با واحد واژگانی هجاسازی مجدد  \n",
       " 163                                 False  \n",
       " 164                                 False  ,\n",
       "       id Affix PhonologicalForm نام وند کد معنا جایگاه نوع طرح تکیه واکه  \\\n",
       " 120    2    ها               hA     PLM      00      1   0        S    1   \n",
       " 121  171    ها               hA     PLM      00      1   0        S    0   \n",
       " \n",
       "     درج واج در وندافزایی تغییرات آوایی در وندافزایی SynCatCode مقولة ستاک+وند  \\\n",
       " 120                                                         N1                  \n",
       " 121                                                         N1                  \n",
       " \n",
       "     هم‌نویسه با واحد واژگانی هجاسازی مجدد  \n",
       " 120                                 False  \n",
       " 121                                 False  )"
      ]
     },
     "execution_count": 143,
     "metadata": {},
     "output_type": "execute_result"
    }
   ],
   "source": [
    "\n",
    "assets.df_Affixes[assets.df_Affixes['Affix']=='یی'], assets.df_Affixes[assets.df_Affixes['Affix']=='ها']\n"
   ]
  },
  {
   "cell_type": "code",
   "execution_count": null,
   "id": "ae199ae7",
   "metadata": {},
   "outputs": [],
   "source": []
  },
  {
   "cell_type": "code",
   "execution_count": 76,
   "id": "0182e42b",
   "metadata": {},
   "outputs": [
    {
     "data": {
      "text/plain": [
       "[('امروز', 'ADV'),\n",
       " ('بی\\u200cبصیرتی\\u200cهایی', 'N'),\n",
       " ('دیده_می\\u200cشود', 'V'),\n",
       " ('که', 'CONJ'),\n",
       " ('چراغ\\u200cعلی', 'N'),\n",
       " ('هم', 'CONJ'),\n",
       " ('قبلا', 'ADV'),\n",
       " ('ندیده', 'V'),\n",
       " ('!', 'PUNC')]"
      ]
     },
     "execution_count": 76,
     "metadata": {},
     "output_type": "execute_result"
    }
   ],
   "source": [
    "text = 'امروز بی‌بصیرتی‌هایی دیده می‌شود که چراغ‌علی هم قبلاً ندیده!'\n",
    "text = m0_9.normalise(text)\n",
    "text\n",
    "assets.tagger.tag(assets.word_tokenize(text))"
   ]
  },
  {
   "cell_type": "code",
   "execution_count": null,
   "id": "0787b448",
   "metadata": {},
   "outputs": [],
   "source": []
  },
  {
   "cell_type": "markdown",
   "id": "61a6fee1",
   "metadata": {},
   "source": [
    "### Rule 20 (Recursive search, improve implemented in 0.9)"
   ]
  },
  {
   "cell_type": "code",
   "execution_count": 172,
   "id": "3fc2adce",
   "metadata": {},
   "outputs": [],
   "source": [
    "\n",
    "def recu_affix_wrd(wrd):\n",
    "    \n",
    "    suffix, stem = '', ''\n",
    "    for i in range(len(wrd), 0, -1):\n",
    "        if m0_9.assets.df_Affixes[m0_9.assets.df_Affixes['Affix']==wrd[:i]].shape[0] > 0:\n",
    "            l_search = m0_9.assets.df_Affixes[m0_9.assets.df_Affixes['Affix']==wrd[:i]].to_dict('records')\n",
    "            stem = m0_9.votation_entries(l_search, entries=False)\n",
    "            suffix = recu_affix_wrd(wrd[i:])\n",
    "            break\n",
    "\n",
    "    return stem+suffix\n",
    "\n",
    "tests = [{'farsi': 'هایی', 'trans': 'hAyi'},\n",
    "         {'farsi': 'هایتان', 'trans': 'hAyetAn'}]\n",
    "\n",
    "for t in tests:\n",
    "    assert recu_affix_wrd(t['farsi']) == t['trans']\n"
   ]
  },
  {
   "cell_type": "code",
   "execution_count": null,
   "id": "da308f34",
   "metadata": {},
   "outputs": [],
   "source": []
  },
  {
   "cell_type": "markdown",
   "id": "a87eb4b9",
   "metadata": {},
   "source": [
    "### Rule 21 (affix ن)"
   ]
  },
  {
   "cell_type": "code",
   "execution_count": 194,
   "id": "aa669874",
   "metadata": {},
   "outputs": [],
   "source": [
    "\n",
    "def rule_21(wrd, pos=None):\n",
    "    if not (wrd[-1] == 'ن' or wrd[0] == 'ن'):\n",
    "        return m0_9.process_wrd(wrd, pos)\n",
    "    else:\n",
    "        if wrd[-1] == 'ن':\n",
    "            return rule_21(wrd[:-1], pos='Verb') + 'an'\n",
    "        elif wrd[0] == 'ن':\n",
    "            return 'na' + rule_21(wrd[1:], pos='Verb')\n",
    "\n",
    "\n",
    "tests = [{'farsi': 'نخوردن', 'trans': 'naxordan'},\n",
    "         {'farsi': 'نخوابیدن', 'trans': 'naxAbidan'},\n",
    "         #{'farsi': 'نمان', 'trans': 'namAn'}\n",
    "         ]\n",
    "\n",
    "for t in tests:\n",
    "    assert rule_21(t['farsi']) == t['trans']\n"
   ]
  },
  {
   "cell_type": "code",
   "execution_count": null,
   "id": "c6bd409a",
   "metadata": {},
   "outputs": [],
   "source": []
  },
  {
   "cell_type": "markdown",
   "id": "45dda2dd",
   "metadata": {},
   "source": [
    "### Rule 22 (affixes بی and نی)"
   ]
  },
  {
   "cell_type": "code",
   "execution_count": 207,
   "id": "267c7e44",
   "metadata": {},
   "outputs": [
    {
     "data": {
      "text/html": [
       "<div>\n",
       "<style scoped>\n",
       "    .dataframe tbody tr th:only-of-type {\n",
       "        vertical-align: middle;\n",
       "    }\n",
       "\n",
       "    .dataframe tbody tr th {\n",
       "        vertical-align: top;\n",
       "    }\n",
       "\n",
       "    .dataframe thead th {\n",
       "        text-align: right;\n",
       "    }\n",
       "</style>\n",
       "<table border=\"1\" class=\"dataframe\">\n",
       "  <thead>\n",
       "    <tr style=\"text-align: right;\">\n",
       "      <th></th>\n",
       "      <th>id</th>\n",
       "      <th>Affix</th>\n",
       "      <th>PhonologicalForm</th>\n",
       "      <th>نام وند</th>\n",
       "      <th>کد معنا</th>\n",
       "      <th>جایگاه</th>\n",
       "      <th>نوع</th>\n",
       "      <th>طرح تکیه</th>\n",
       "      <th>واکه</th>\n",
       "      <th>درج واج در وندافزایی</th>\n",
       "      <th>تغییرات آوایی در وندافزایی</th>\n",
       "      <th>SynCatCode</th>\n",
       "      <th>مقولة ستاک+وند</th>\n",
       "      <th>هم‌نویسه با واحد واژگانی</th>\n",
       "      <th>هجاسازی مجدد</th>\n",
       "    </tr>\n",
       "  </thead>\n",
       "  <tbody>\n",
       "    <tr>\n",
       "      <th>117</th>\n",
       "      <td>60</td>\n",
       "      <td>نی</td>\n",
       "      <td>nay</td>\n",
       "      <td>NEM</td>\n",
       "      <td>10</td>\n",
       "      <td>-2</td>\n",
       "      <td>0</td>\n",
       "      <td>S</td>\n",
       "      <td>0</td>\n",
       "      <td></td>\n",
       "      <td></td>\n",
       "      <td>020</td>\n",
       "      <td></td>\n",
       "      <td></td>\n",
       "      <td>False</td>\n",
       "    </tr>\n",
       "  </tbody>\n",
       "</table>\n",
       "</div>"
      ],
      "text/plain": [
       "     id Affix PhonologicalForm نام وند کد معنا جایگاه نوع طرح تکیه واکه  \\\n",
       "117  60    نی              nay     NEM      10     -2   0        S    0   \n",
       "\n",
       "    درج واج در وندافزایی تغییرات آوایی در وندافزایی SynCatCode مقولة ستاک+وند  \\\n",
       "117                                                        020                  \n",
       "\n",
       "    هم‌نویسه با واحد واژگانی هجاسازی مجدد  \n",
       "117                                 False  "
      ]
     },
     "execution_count": 207,
     "metadata": {},
     "output_type": "execute_result"
    }
   ],
   "source": [
    "affix = 'بی'\n",
    "affix = 'نی'\n",
    "m0_9.assets.df_Affixes[m0_9.assets.df_Affixes['Affix']==affix]"
   ]
  },
  {
   "cell_type": "code",
   "execution_count": 198,
   "id": "00ed6d38",
   "metadata": {},
   "outputs": [],
   "source": [
    "text = 'بیا در آغوشم بیارام و دیگران را نیازار'"
   ]
  },
  {
   "cell_type": "code",
   "execution_count": 208,
   "id": "acc9e946",
   "metadata": {},
   "outputs": [
    {
     "name": "stdout",
     "output_type": "stream",
     "text": [
      "('بیا', 'V')\n",
      "('در', 'P')\n",
      "('آغوشم', 'N')\n",
      "('بیارام', 'V')\n",
      "('و', 'CONJ')\n",
      "('دیگران', 'PRO')\n",
      "('را', 'POSTP')\n",
      "('نیازار', 'N')\n"
     ]
    }
   ],
   "source": [
    "for w in assets.tagger.tag(assets.word_tokenize(text)):\n",
    "    #print('نی' in w[0])\n",
    "    print(w)"
   ]
  },
  {
   "cell_type": "code",
   "execution_count": 221,
   "id": "99c09362",
   "metadata": {},
   "outputs": [
    {
     "data": {
      "text/plain": [
       "'نیا'"
      ]
     },
     "execution_count": 221,
     "metadata": {},
     "output_type": "execute_result"
    }
   ],
   "source": [
    "wrd = 'نیازار'\n",
    "wrd[:2] == 'نی'\n",
    "wrd[:-3]"
   ]
  },
  {
   "cell_type": "code",
   "execution_count": 220,
   "id": "d53f6b6b",
   "metadata": {},
   "outputs": [
    {
     "data": {
      "text/plain": [
       "'آمد#آ'"
      ]
     },
     "execution_count": 220,
     "metadata": {},
     "output_type": "execute_result"
    }
   ],
   "source": [
    "wrd = 'نیازار'\n",
    "lemma = assets.lemmatizer.lemmatize(wrd[:-3])\n",
    "lemma"
   ]
  },
  {
   "cell_type": "code",
   "execution_count": 215,
   "id": "d2374d5e",
   "metadata": {},
   "outputs": [
    {
     "data": {
      "text/html": [
       "<div>\n",
       "<style scoped>\n",
       "    .dataframe tbody tr th:only-of-type {\n",
       "        vertical-align: middle;\n",
       "    }\n",
       "\n",
       "    .dataframe tbody tr th {\n",
       "        vertical-align: top;\n",
       "    }\n",
       "\n",
       "    .dataframe thead th {\n",
       "        text-align: right;\n",
       "    }\n",
       "</style>\n",
       "<table border=\"1\" class=\"dataframe\">\n",
       "  <thead>\n",
       "    <tr style=\"text-align: right;\">\n",
       "      <th></th>\n",
       "      <th>PhonologicalForm</th>\n",
       "      <th>WrittenForm</th>\n",
       "      <th>SynCatCode</th>\n",
       "      <th>Freq</th>\n",
       "      <th>الگوی تکیه</th>\n",
       "    </tr>\n",
       "  </thead>\n",
       "  <tbody>\n",
       "    <tr>\n",
       "      <th>3550</th>\n",
       "      <td>'ezAr</td>\n",
       "      <td>ازار</td>\n",
       "      <td>N1</td>\n",
       "      <td>1</td>\n",
       "      <td>WS</td>\n",
       "    </tr>\n",
       "  </tbody>\n",
       "</table>\n",
       "</div>"
      ],
      "text/plain": [
       "     PhonologicalForm WrittenForm SynCatCode Freq الگوی تکیه\n",
       "3550            'ezAr        ازار         N1    1         WS"
      ]
     },
     "execution_count": 215,
     "metadata": {},
     "output_type": "execute_result"
    }
   ],
   "source": [
    "\n",
    "assets.df_Entries[assets.df_Entries['WrittenForm']==wrd[2:]]"
   ]
  },
  {
   "cell_type": "code",
   "execution_count": 213,
   "id": "494f71be",
   "metadata": {},
   "outputs": [
    {
     "data": {
      "text/plain": [
       "\"'ezAr\""
      ]
     },
     "execution_count": 213,
     "metadata": {},
     "output_type": "execute_result"
    }
   ],
   "source": [
    "m0_9.process_verb(wrd[2:])"
   ]
  },
  {
   "cell_type": "code",
   "execution_count": 212,
   "id": "d670034c",
   "metadata": {},
   "outputs": [
    {
     "data": {
      "text/plain": [
       "\"'ezAr\""
      ]
     },
     "execution_count": 212,
     "metadata": {},
     "output_type": "execute_result"
    }
   ],
   "source": [
    "m0_9.process_noun(wrd[2:])"
   ]
  },
  {
   "cell_type": "code",
   "execution_count": 206,
   "id": "5c8eef7b",
   "metadata": {},
   "outputs": [
    {
     "data": {
      "text/plain": [
       "'nayAzAr'"
      ]
     },
     "execution_count": 206,
     "metadata": {},
     "output_type": "execute_result"
    }
   ],
   "source": [
    "'nayAzAr'"
   ]
  },
  {
   "cell_type": "markdown",
   "id": "2717ce3e",
   "metadata": {},
   "source": [
    "### Rule 23 (root of the verb is رو)"
   ]
  },
  {
   "cell_type": "code",
   "execution_count": 222,
   "id": "1b393098",
   "metadata": {},
   "outputs": [],
   "source": [
    "w='رو'\n",
    "def rule_23(wrd, pos=None):\n",
    "    if not wrd[-2:] == 'رو':\n",
    "        "
   ]
  },
  {
   "cell_type": "code",
   "execution_count": 223,
   "id": "5b5b0e89",
   "metadata": {},
   "outputs": [
    {
     "data": {
      "text/html": [
       "<div>\n",
       "<style scoped>\n",
       "    .dataframe tbody tr th:only-of-type {\n",
       "        vertical-align: middle;\n",
       "    }\n",
       "\n",
       "    .dataframe tbody tr th {\n",
       "        vertical-align: top;\n",
       "    }\n",
       "\n",
       "    .dataframe thead th {\n",
       "        text-align: right;\n",
       "    }\n",
       "</style>\n",
       "<table border=\"1\" class=\"dataframe\">\n",
       "  <thead>\n",
       "    <tr style=\"text-align: right;\">\n",
       "      <th></th>\n",
       "      <th>PhonologicalForm</th>\n",
       "      <th>WrittenForm</th>\n",
       "      <th>SynCatCode</th>\n",
       "      <th>Freq</th>\n",
       "      <th>الگوی تکیه</th>\n",
       "    </tr>\n",
       "  </thead>\n",
       "  <tbody>\n",
       "    <tr>\n",
       "      <th>26085</th>\n",
       "      <td>rav</td>\n",
       "      <td>رو</td>\n",
       "      <td>V1</td>\n",
       "      <td>5000</td>\n",
       "      <td>S</td>\n",
       "    </tr>\n",
       "    <tr>\n",
       "      <th>26086</th>\n",
       "      <td>ru</td>\n",
       "      <td>رو</td>\n",
       "      <td>N1</td>\n",
       "      <td>7050</td>\n",
       "      <td>S</td>\n",
       "    </tr>\n",
       "    <tr>\n",
       "      <th>26087</th>\n",
       "      <td>ru</td>\n",
       "      <td>رو</td>\n",
       "      <td>N9</td>\n",
       "      <td>1</td>\n",
       "      <td>S</td>\n",
       "    </tr>\n",
       "    <tr>\n",
       "      <th>26088</th>\n",
       "      <td>ru</td>\n",
       "      <td>رو</td>\n",
       "      <td>V1</td>\n",
       "      <td>4000</td>\n",
       "      <td>S</td>\n",
       "    </tr>\n",
       "  </tbody>\n",
       "</table>\n",
       "</div>"
      ],
      "text/plain": [
       "      PhonologicalForm WrittenForm SynCatCode  Freq الگوی تکیه\n",
       "26085              rav          رو         V1  5000          S\n",
       "26086               ru          رو         N1  7050          S\n",
       "26087               ru          رو         N9     1          S\n",
       "26088               ru          رو         V1  4000          S"
      ]
     },
     "execution_count": 223,
     "metadata": {},
     "output_type": "execute_result"
    }
   ],
   "source": [
    "assets.df_Entries[assets.df_Entries['WrittenForm']==w]"
   ]
  },
  {
   "cell_type": "code",
   "execution_count": 224,
   "id": "43c8ef9c",
   "metadata": {},
   "outputs": [],
   "source": [
    "text = 'برو بمیر! نرو نمیر!'"
   ]
  },
  {
   "cell_type": "code",
   "execution_count": 225,
   "id": "7b4bf21c",
   "metadata": {},
   "outputs": [
    {
     "data": {
      "text/plain": [
       "[('برو', 'V'),\n",
       " ('بمیر', 'N'),\n",
       " ('!', 'PUNC'),\n",
       " ('نرو', 'V'),\n",
       " ('نمیر', 'N'),\n",
       " ('!', 'PUNC')]"
      ]
     },
     "execution_count": 225,
     "metadata": {},
     "output_type": "execute_result"
    }
   ],
   "source": [
    "assets.tagger.tag(assets.word_tokenize(text))"
   ]
  },
  {
   "cell_type": "code",
   "execution_count": 227,
   "id": "85e1e7f7",
   "metadata": {},
   "outputs": [
    {
     "data": {
      "text/plain": [
       "'boro'"
      ]
     },
     "execution_count": 227,
     "metadata": {},
     "output_type": "execute_result"
    }
   ],
   "source": [
    "wrd = 'برو'\n",
    "m0_9.process_verb(wrd)"
   ]
  },
  {
   "cell_type": "code",
   "execution_count": 228,
   "id": "1d7fdb01",
   "metadata": {},
   "outputs": [
    {
     "data": {
      "text/plain": [
       "'برو'"
      ]
     },
     "execution_count": 228,
     "metadata": {},
     "output_type": "execute_result"
    }
   ],
   "source": [
    "assets.stemmer.stem(wrd)"
   ]
  },
  {
   "cell_type": "code",
   "execution_count": 235,
   "id": "863ab920",
   "metadata": {},
   "outputs": [
    {
     "data": {
      "text/plain": [
       "'برو'"
      ]
     },
     "execution_count": 235,
     "metadata": {},
     "output_type": "execute_result"
    }
   ],
   "source": [
    "lemma = assets.lemmatizer.lemmatize(wrd)\n",
    "lemma"
   ]
  },
  {
   "cell_type": "code",
   "execution_count": 232,
   "id": "27960482",
   "metadata": {},
   "outputs": [
    {
     "data": {
      "text/html": [
       "<div>\n",
       "<style scoped>\n",
       "    .dataframe tbody tr th:only-of-type {\n",
       "        vertical-align: middle;\n",
       "    }\n",
       "\n",
       "    .dataframe tbody tr th {\n",
       "        vertical-align: top;\n",
       "    }\n",
       "\n",
       "    .dataframe thead th {\n",
       "        text-align: right;\n",
       "    }\n",
       "</style>\n",
       "<table border=\"1\" class=\"dataframe\">\n",
       "  <thead>\n",
       "    <tr style=\"text-align: right;\">\n",
       "      <th></th>\n",
       "      <th>PhonologicalForm</th>\n",
       "      <th>WrittenForm</th>\n",
       "      <th>SynCatCode</th>\n",
       "      <th>Freq</th>\n",
       "      <th>الگوی تکیه</th>\n",
       "    </tr>\n",
       "  </thead>\n",
       "  <tbody>\n",
       "    <tr>\n",
       "      <th>26085</th>\n",
       "      <td>rav</td>\n",
       "      <td>رو</td>\n",
       "      <td>V1</td>\n",
       "      <td>5000</td>\n",
       "      <td>S</td>\n",
       "    </tr>\n",
       "    <tr>\n",
       "      <th>26086</th>\n",
       "      <td>ru</td>\n",
       "      <td>رو</td>\n",
       "      <td>N1</td>\n",
       "      <td>7050</td>\n",
       "      <td>S</td>\n",
       "    </tr>\n",
       "    <tr>\n",
       "      <th>26087</th>\n",
       "      <td>ru</td>\n",
       "      <td>رو</td>\n",
       "      <td>N9</td>\n",
       "      <td>1</td>\n",
       "      <td>S</td>\n",
       "    </tr>\n",
       "    <tr>\n",
       "      <th>26088</th>\n",
       "      <td>ru</td>\n",
       "      <td>رو</td>\n",
       "      <td>V1</td>\n",
       "      <td>4000</td>\n",
       "      <td>S</td>\n",
       "    </tr>\n",
       "  </tbody>\n",
       "</table>\n",
       "</div>"
      ],
      "text/plain": [
       "      PhonologicalForm WrittenForm SynCatCode  Freq الگوی تکیه\n",
       "26085              rav          رو         V1  5000          S\n",
       "26086               ru          رو         N1  7050          S\n",
       "26087               ru          رو         N9     1          S\n",
       "26088               ru          رو         V1  4000          S"
      ]
     },
     "execution_count": 232,
     "metadata": {},
     "output_type": "execute_result"
    }
   ],
   "source": [
    "assets.df_Entries[assets.df_Entries['WrittenForm']==affix]"
   ]
  },
  {
   "cell_type": "code",
   "execution_count": 231,
   "id": "5de5a888",
   "metadata": {},
   "outputs": [
    {
     "data": {
      "text/html": [
       "<div>\n",
       "<style scoped>\n",
       "    .dataframe tbody tr th:only-of-type {\n",
       "        vertical-align: middle;\n",
       "    }\n",
       "\n",
       "    .dataframe tbody tr th {\n",
       "        vertical-align: top;\n",
       "    }\n",
       "\n",
       "    .dataframe thead th {\n",
       "        text-align: right;\n",
       "    }\n",
       "</style>\n",
       "<table border=\"1\" class=\"dataframe\">\n",
       "  <thead>\n",
       "    <tr style=\"text-align: right;\">\n",
       "      <th></th>\n",
       "      <th>id</th>\n",
       "      <th>Affix</th>\n",
       "      <th>PhonologicalForm</th>\n",
       "      <th>نام وند</th>\n",
       "      <th>کد معنا</th>\n",
       "      <th>جایگاه</th>\n",
       "      <th>نوع</th>\n",
       "      <th>طرح تکیه</th>\n",
       "      <th>واکه</th>\n",
       "      <th>درج واج در وندافزایی</th>\n",
       "      <th>تغییرات آوایی در وندافزایی</th>\n",
       "      <th>SynCatCode</th>\n",
       "      <th>مقولة ستاک+وند</th>\n",
       "      <th>هم‌نویسه با واحد واژگانی</th>\n",
       "      <th>هجاسازی مجدد</th>\n",
       "    </tr>\n",
       "  </thead>\n",
       "  <tbody>\n",
       "  </tbody>\n",
       "</table>\n",
       "</div>"
      ],
      "text/plain": [
       "Empty DataFrame\n",
       "Columns: [id, Affix, PhonologicalForm, نام وند, کد معنا, جایگاه, نوع, طرح تکیه, واکه, درج واج در وندافزایی, تغییرات آوایی در وندافزایی, SynCatCode, مقولة ستاک+وند, هم‌نویسه با واحد واژگانی, هجاسازی مجدد]\n",
       "Index: []"
      ]
     },
     "execution_count": 231,
     "metadata": {},
     "output_type": "execute_result"
    }
   ],
   "source": [
    "affix = 'ب'\n",
    "affix = 'رو'\n",
    "assets.df_Affixes[assets.df_Affixes['Affix']==affix]"
   ]
  },
  {
   "cell_type": "code",
   "execution_count": null,
   "id": "9d2b9007",
   "metadata": {},
   "outputs": [],
   "source": [
    "'نرو'"
   ]
  },
  {
   "cell_type": "code",
   "execution_count": 236,
   "id": "61bf4c25",
   "metadata": {},
   "outputs": [
    {
     "data": {
      "text/html": [
       "<div>\n",
       "<style scoped>\n",
       "    .dataframe tbody tr th:only-of-type {\n",
       "        vertical-align: middle;\n",
       "    }\n",
       "\n",
       "    .dataframe tbody tr th {\n",
       "        vertical-align: top;\n",
       "    }\n",
       "\n",
       "    .dataframe thead th {\n",
       "        text-align: right;\n",
       "    }\n",
       "</style>\n",
       "<table border=\"1\" class=\"dataframe\">\n",
       "  <thead>\n",
       "    <tr style=\"text-align: right;\">\n",
       "      <th></th>\n",
       "      <th>PhonologicalForm</th>\n",
       "      <th>WrittenForm</th>\n",
       "      <th>SynCatCode</th>\n",
       "      <th>Freq</th>\n",
       "      <th>الگوی تکیه</th>\n",
       "    </tr>\n",
       "  </thead>\n",
       "  <tbody>\n",
       "    <tr>\n",
       "      <th>48877</th>\n",
       "      <td>n</td>\n",
       "      <td>ن</td>\n",
       "      <td>T</td>\n",
       "      <td>1</td>\n",
       "      <td>None</td>\n",
       "    </tr>\n",
       "    <tr>\n",
       "      <th>48878</th>\n",
       "      <td>ne</td>\n",
       "      <td>ن</td>\n",
       "      <td>Ab</td>\n",
       "      <td>1</td>\n",
       "      <td>S</td>\n",
       "    </tr>\n",
       "    <tr>\n",
       "      <th>48879</th>\n",
       "      <td>nun</td>\n",
       "      <td>ن</td>\n",
       "      <td>Al</td>\n",
       "      <td>1</td>\n",
       "      <td>S</td>\n",
       "    </tr>\n",
       "  </tbody>\n",
       "</table>\n",
       "</div>"
      ],
      "text/plain": [
       "      PhonologicalForm WrittenForm SynCatCode Freq الگوی تکیه\n",
       "48877                n           ن          T    1       None\n",
       "48878               ne           ن         Ab    1          S\n",
       "48879              nun           ن         Al    1          S"
      ]
     },
     "execution_count": 236,
     "metadata": {},
     "output_type": "execute_result"
    }
   ],
   "source": [
    "affix = 'ن'\n",
    "assets.df_Entries[assets.df_Entries['WrittenForm']==affix]"
   ]
  },
  {
   "cell_type": "code",
   "execution_count": 237,
   "id": "ab3c1f03",
   "metadata": {},
   "outputs": [
    {
     "data": {
      "text/html": [
       "<div>\n",
       "<style scoped>\n",
       "    .dataframe tbody tr th:only-of-type {\n",
       "        vertical-align: middle;\n",
       "    }\n",
       "\n",
       "    .dataframe tbody tr th {\n",
       "        vertical-align: top;\n",
       "    }\n",
       "\n",
       "    .dataframe thead th {\n",
       "        text-align: right;\n",
       "    }\n",
       "</style>\n",
       "<table border=\"1\" class=\"dataframe\">\n",
       "  <thead>\n",
       "    <tr style=\"text-align: right;\">\n",
       "      <th></th>\n",
       "      <th>id</th>\n",
       "      <th>Affix</th>\n",
       "      <th>PhonologicalForm</th>\n",
       "      <th>نام وند</th>\n",
       "      <th>کد معنا</th>\n",
       "      <th>جایگاه</th>\n",
       "      <th>نوع</th>\n",
       "      <th>طرح تکیه</th>\n",
       "      <th>واکه</th>\n",
       "      <th>درج واج در وندافزایی</th>\n",
       "      <th>تغییرات آوایی در وندافزایی</th>\n",
       "      <th>SynCatCode</th>\n",
       "      <th>مقولة ستاک+وند</th>\n",
       "      <th>هم‌نویسه با واحد واژگانی</th>\n",
       "      <th>هجاسازی مجدد</th>\n",
       "    </tr>\n",
       "  </thead>\n",
       "  <tbody>\n",
       "    <tr>\n",
       "      <th>105</th>\n",
       "      <td>59</td>\n",
       "      <td>ن</td>\n",
       "      <td>na</td>\n",
       "      <td>NEM</td>\n",
       "      <td>10</td>\n",
       "      <td>-2</td>\n",
       "      <td>0</td>\n",
       "      <td>S</td>\n",
       "      <td>0</td>\n",
       "      <td></td>\n",
       "      <td></td>\n",
       "      <td>020</td>\n",
       "      <td></td>\n",
       "      <td></td>\n",
       "      <td>False</td>\n",
       "    </tr>\n",
       "    <tr>\n",
       "      <th>106</th>\n",
       "      <td>166</td>\n",
       "      <td>ن</td>\n",
       "      <td>na</td>\n",
       "      <td></td>\n",
       "      <td></td>\n",
       "      <td></td>\n",
       "      <td>1</td>\n",
       "      <td>W</td>\n",
       "      <td>0</td>\n",
       "      <td></td>\n",
       "      <td></td>\n",
       "      <td></td>\n",
       "      <td></td>\n",
       "      <td></td>\n",
       "      <td>False</td>\n",
       "    </tr>\n",
       "    <tr>\n",
       "      <th>107</th>\n",
       "      <td>None</td>\n",
       "      <td>ن</td>\n",
       "      <td>an</td>\n",
       "      <td></td>\n",
       "      <td></td>\n",
       "      <td></td>\n",
       "      <td>None</td>\n",
       "      <td>None</td>\n",
       "      <td>None</td>\n",
       "      <td></td>\n",
       "      <td></td>\n",
       "      <td>V2</td>\n",
       "      <td></td>\n",
       "      <td></td>\n",
       "      <td>False</td>\n",
       "    </tr>\n",
       "  </tbody>\n",
       "</table>\n",
       "</div>"
      ],
      "text/plain": [
       "       id Affix PhonologicalForm نام وند کد معنا جایگاه   نوع طرح تکیه  واکه  \\\n",
       "105    59     ن               na     NEM      10     -2     0        S     0   \n",
       "106   166     ن               na                            1        W     0   \n",
       "107  None     ن               an                         None     None  None   \n",
       "\n",
       "    درج واج در وندافزایی تغییرات آوایی در وندافزایی SynCatCode مقولة ستاک+وند  \\\n",
       "105                                                        020                  \n",
       "106                                                                             \n",
       "107                                                         V2                  \n",
       "\n",
       "    هم‌نویسه با واحد واژگانی هجاسازی مجدد  \n",
       "105                                 False  \n",
       "106                                 False  \n",
       "107                                 False  "
      ]
     },
     "execution_count": 237,
     "metadata": {},
     "output_type": "execute_result"
    }
   ],
   "source": [
    "assets.df_Affixes[assets.df_Affixes['Affix']==affix]"
   ]
  },
  {
   "cell_type": "code",
   "execution_count": 238,
   "id": "0f9fee66",
   "metadata": {},
   "outputs": [
    {
     "data": {
      "text/html": [
       "<div>\n",
       "<style scoped>\n",
       "    .dataframe tbody tr th:only-of-type {\n",
       "        vertical-align: middle;\n",
       "    }\n",
       "\n",
       "    .dataframe tbody tr th {\n",
       "        vertical-align: top;\n",
       "    }\n",
       "\n",
       "    .dataframe thead th {\n",
       "        text-align: right;\n",
       "    }\n",
       "</style>\n",
       "<table border=\"1\" class=\"dataframe\">\n",
       "  <thead>\n",
       "    <tr style=\"text-align: right;\">\n",
       "      <th></th>\n",
       "      <th>id</th>\n",
       "      <th>Affix</th>\n",
       "      <th>PhonologicalForm</th>\n",
       "      <th>نام وند</th>\n",
       "      <th>کد معنا</th>\n",
       "      <th>جایگاه</th>\n",
       "      <th>نوع</th>\n",
       "      <th>طرح تکیه</th>\n",
       "      <th>واکه</th>\n",
       "      <th>درج واج در وندافزایی</th>\n",
       "      <th>تغییرات آوایی در وندافزایی</th>\n",
       "      <th>SynCatCode</th>\n",
       "      <th>مقولة ستاک+وند</th>\n",
       "      <th>هم‌نویسه با واحد واژگانی</th>\n",
       "      <th>هجاسازی مجدد</th>\n",
       "    </tr>\n",
       "  </thead>\n",
       "  <tbody>\n",
       "    <tr>\n",
       "      <th>33</th>\n",
       "      <td>57</td>\n",
       "      <td>ب</td>\n",
       "      <td>be</td>\n",
       "      <td>ISM</td>\n",
       "      <td>11</td>\n",
       "      <td>-1</td>\n",
       "      <td>0</td>\n",
       "      <td>S</td>\n",
       "      <td>0</td>\n",
       "      <td></td>\n",
       "      <td></td>\n",
       "      <td></td>\n",
       "      <td></td>\n",
       "      <td></td>\n",
       "      <td>False</td>\n",
       "    </tr>\n",
       "  </tbody>\n",
       "</table>\n",
       "</div>"
      ],
      "text/plain": [
       "    id Affix PhonologicalForm نام وند کد معنا جایگاه نوع طرح تکیه واکه  \\\n",
       "33  57     ب               be     ISM      11     -1   0        S    0   \n",
       "\n",
       "   درج واج در وندافزایی تغییرات آوایی در وندافزایی SynCatCode مقولة ستاک+وند  \\\n",
       "33                                                                             \n",
       "\n",
       "   هم‌نویسه با واحد واژگانی هجاسازی مجدد  \n",
       "33                                 False  "
      ]
     },
     "execution_count": 238,
     "metadata": {},
     "output_type": "execute_result"
    }
   ],
   "source": [
    "\n",
    "assets.df_Affixes[assets.df_Affixes['Affix']=='ب']"
   ]
  },
  {
   "cell_type": "markdown",
   "id": "b928ba2a",
   "metadata": {},
   "source": [
    "### Rule 24 (Recursion, improve v0.9)"
   ]
  },
  {
   "cell_type": "code",
   "execution_count": null,
   "id": "fad664fe",
   "metadata": {},
   "outputs": [],
   "source": []
  },
  {
   "cell_type": "code",
   "execution_count": null,
   "id": "e3739178",
   "metadata": {},
   "outputs": [],
   "source": []
  }
 ],
 "metadata": {
  "kernelspec": {
   "display_name": "Python 3",
   "language": "python",
   "name": "python3"
  },
  "language_info": {
   "codemirror_mode": {
    "name": "ipython",
    "version": 3
   },
   "file_extension": ".py",
   "mimetype": "text/x-python",
   "name": "python",
   "nbconvert_exporter": "python",
   "pygments_lexer": "ipython3",
   "version": "3.6.13"
  }
 },
 "nbformat": 4,
 "nbformat_minor": 5
}
