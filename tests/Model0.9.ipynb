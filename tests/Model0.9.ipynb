{
 "cells": [
  {
   "cell_type": "code",
   "execution_count": 14,
   "id": "07ce67a0",
   "metadata": {},
   "outputs": [],
   "source": [
    "import lib.get_assets as assets"
   ]
  },
  {
   "cell_type": "code",
   "execution_count": 2,
   "id": "876bc475",
   "metadata": {},
   "outputs": [],
   "source": [
    "import lib.model0_9 as m0_9"
   ]
  },
  {
   "cell_type": "markdown",
   "id": "74dd4ae5",
   "metadata": {},
   "source": [
    "### Rule 1"
   ]
  },
  {
   "cell_type": "code",
   "execution_count": 3,
   "id": "bc27b416",
   "metadata": {},
   "outputs": [],
   "source": [
    "\n",
    "tests = [{'farsi': 'ییلاق‌نشین', 'trans': 'yeylAqneSin'},\n",
    "         {'farsi': 'ییدیش', 'trans': 'yidiS'},\n",
    "         {'farsi': 'یوونتوس', 'trans': 'yuventus'},\n",
    "         {'farsi': 'یونید', 'trans': 'یونید'} # case verb\n",
    "        ]\n",
    "\n",
    "for t in tests:   \n",
    "    assert m0_9.general_search(t['farsi'], pos_neg='Verb') == t['trans']\n"
   ]
  },
  {
   "cell_type": "code",
   "execution_count": null,
   "id": "cf71ac43",
   "metadata": {},
   "outputs": [],
   "source": []
  },
  {
   "cell_type": "markdown",
   "id": "c8ea2fb4",
   "metadata": {},
   "source": [
    "### Rule 2 (Nouns)"
   ]
  },
  {
   "cell_type": "code",
   "execution_count": 4,
   "id": "1e70bac7",
   "metadata": {},
   "outputs": [],
   "source": [
    "\n",
    "tests = [{'farsi': 'پیامبرت', 'trans': 'payAmbarat'},\n",
    "         {'farsi': 'مزايایی', 'trans': 'mazAyAyi'},\n",
    "         {'farsi': 'بی شرف', 'trans': 'bi Saraf'},\n",
    "         {'farsi': 'بی عقل', 'trans':'bi \\'aql'}]\n",
    "\n",
    "for t in tests:\n",
    "    assert m0_9.run_transcription_0(t['farsi']) == t['trans']\n"
   ]
  },
  {
   "cell_type": "code",
   "execution_count": null,
   "id": "8708fd9d",
   "metadata": {},
   "outputs": [],
   "source": []
  },
  {
   "cell_type": "markdown",
   "id": "a309af8a",
   "metadata": {},
   "source": [
    "### Rule 3 (Verbs basis)"
   ]
  },
  {
   "cell_type": "code",
   "execution_count": 5,
   "id": "4131717c",
   "metadata": {},
   "outputs": [],
   "source": [
    "\n",
    "tests = [{'farsi': 'بخواهند بروند', 'trans': 'bexAhand beravand'},\n",
    "         # {'farsi': 'می‌تواند بخوابد', 'trans': 'mitavAnad bexAbad'}, # \\u200c\n",
    "         # {'farsi': 'نشد بپریم', 'trans': 'naSod beparim'}, # می\n",
    "         # {'farsi': 'می روید', 'trans': 'miravid'} # \n",
    "        # {'farsi': 'می ترسد', 'trans': 'mitarsad'}\n",
    "        ]\n",
    "\n",
    "for t in tests:\n",
    "    assert m0_9.run_transcription_0(t['farsi']) == t['trans']\n"
   ]
  },
  {
   "cell_type": "code",
   "execution_count": null,
   "id": "6dc2caa7",
   "metadata": {},
   "outputs": [],
   "source": []
  },
  {
   "cell_type": "markdown",
   "id": "516a75a9",
   "metadata": {},
   "source": [
    "### Rule 4 (Frequency based prioritization for collisions)"
   ]
  },
  {
   "cell_type": "code",
   "execution_count": 6,
   "id": "744a265a",
   "metadata": {},
   "outputs": [],
   "source": [
    "\n",
    "tests = [{'farsi': 'ی', 'trans': 'ye'}]\n",
    "\n",
    "for t in tests:\n",
    "    assert m0_9.general_search(t['farsi']) == t['trans']\n",
    "\n",
    "    \n",
    "tests = [{'farsi': 'ی', 'trans': 'i'}]\n",
    "for t in tests:\n",
    "    assert m0_9.affix_search(t['farsi']) == t['trans']\n"
   ]
  },
  {
   "cell_type": "code",
   "execution_count": null,
   "id": "8b0b3333",
   "metadata": {},
   "outputs": [],
   "source": []
  },
  {
   "cell_type": "markdown",
   "id": "434c50be",
   "metadata": {},
   "source": [
    "### Rule 5 (Verb _ as خواهند_كر)"
   ]
  },
  {
   "cell_type": "code",
   "execution_count": 8,
   "id": "c7d40975",
   "metadata": {},
   "outputs": [],
   "source": [
    "\n",
    "tests = [{'farsi': 'خواهند_كرد', 'trans': 'xAhand kard'}]\n",
    "\n",
    "for t in tests:\n",
    "    assert m0_9.process_verb(m0_9.normalise(t['farsi'])) == t['trans']\n",
    "\n",
    "tests = [{'farsi': 'خواهند كرد', 'trans': 'xAhand kard'},\n",
    "         {'farsi': 'بخواهند بروند', 'trans': 'bexAhand beravand'}]\n",
    "\n",
    "for t in tests:\n",
    "    assert m0_9.run_transcription_0(t['farsi']) == t['trans']\n",
    "    "
   ]
  },
  {
   "cell_type": "code",
   "execution_count": null,
   "id": "7adfb46d",
   "metadata": {},
   "outputs": [],
   "source": []
  },
  {
   "cell_type": "markdown",
   "id": "705bc115",
   "metadata": {},
   "source": [
    "### Rule 6 (normalisation ي, ك)"
   ]
  },
  {
   "cell_type": "code",
   "execution_count": 9,
   "id": "abafaa98",
   "metadata": {},
   "outputs": [],
   "source": [
    "\n",
    "tests = [{'farsi': 'گزارشي', 'trans': 'گزارشی'},\n",
    "         {'farsi': 'ك', 'trans': 'ک'}]\n",
    "\n",
    "for t in tests:\n",
    "    assert m0_9.normalise(t['farsi']) == t['trans']\n"
   ]
  },
  {
   "cell_type": "code",
   "execution_count": null,
   "id": "c9dddcdd",
   "metadata": {},
   "outputs": [],
   "source": []
  },
  {
   "cell_type": "markdown",
   "id": "7df932ee",
   "metadata": {},
   "source": [
    "### Rule 7 (affix ی)"
   ]
  },
  {
   "cell_type": "code",
   "execution_count": null,
   "id": "aeb88a3c",
   "metadata": {},
   "outputs": [],
   "source": []
  },
  {
   "cell_type": "code",
   "execution_count": null,
   "id": "03102176",
   "metadata": {},
   "outputs": [],
   "source": []
  },
  {
   "cell_type": "markdown",
   "id": "d372ed68",
   "metadata": {},
   "source": [
    "### Rule 8 (letter ۀ)"
   ]
  },
  {
   "cell_type": "code",
   "execution_count": null,
   "id": "f64aea0e",
   "metadata": {},
   "outputs": [],
   "source": []
  },
  {
   "cell_type": "code",
   "execution_count": null,
   "id": "17662182",
   "metadata": {},
   "outputs": [],
   "source": []
  },
  {
   "cell_type": "markdown",
   "id": "2d9e191a",
   "metadata": {},
   "source": [
    "### Rule 9 (collision affix ات)"
   ]
  },
  {
   "cell_type": "code",
   "execution_count": 10,
   "id": "88522bbb",
   "metadata": {},
   "outputs": [],
   "source": [
    "\n",
    "def rule_9(wrd, pos=None):\n",
    "    if not 'ات' in wrd:\n",
    "        return wrd\n",
    "    else:\n",
    "        if 'ات‌' in wrd:\n",
    "            d_affixes = m0_9.get_affixes(wrd, 'ات‌') #, stem)\n",
    "            stem = 'At'\n",
    "        elif '\\u200cات' in wrd:\n",
    "            d_affixes = m0_9.get_affixes(wrd, '\\u200cات')\n",
    "            stem = '\\'at'\n",
    "        else:\n",
    "            d_affixes = m0_9.get_affixes(wrd, 'ات')\n",
    "            stem = 'At'\n",
    "\n",
    "    if len(d_affixes['prefix']) > len(d_affixes['suffix']):\n",
    "        return m0_9.general_search(d_affixes['prefix'], pos_pos=pos) + stem + m0_9.affix_search(d_affixes['suffix'] )\n",
    "    else:\n",
    "        return m0_9.affix_search(d_affixes['prefix']) + stem + m0_9.general_search(d_affixes['suffix'], pos_pos=pos)\n",
    "\n",
    "\n",
    "tests = [{'farsi': 'مزخرفات', 'trans': 'mozaxrafAt'},\n",
    "         {'farsi': 'خاطرات‌مان', 'trans': 'xAterAtemAn'},\n",
    "         {'farsi': 'عمه‌ات', 'trans': \"'amme'at\"}]\n",
    "\n",
    "\n",
    "for t in tests:\n",
    "    assert rule_9(m0_9.normalise(t['farsi'])) == t['trans']\n"
   ]
  },
  {
   "cell_type": "code",
   "execution_count": null,
   "id": "ba31ed3d",
   "metadata": {},
   "outputs": [],
   "source": []
  },
  {
   "cell_type": "markdown",
   "id": "70be2230",
   "metadata": {},
   "source": [
    "### Rule 10 (collision affix ان)"
   ]
  },
  {
   "cell_type": "code",
   "execution_count": null,
   "id": "384a18ff",
   "metadata": {},
   "outputs": [],
   "source": []
  },
  {
   "cell_type": "code",
   "execution_count": null,
   "id": "ff37011c",
   "metadata": {},
   "outputs": [],
   "source": []
  },
  {
   "cell_type": "markdown",
   "id": "9293868f",
   "metadata": {},
   "source": [
    "### Rule 11 (collision affix ش)"
   ]
  },
  {
   "cell_type": "code",
   "execution_count": 11,
   "id": "a506bd12",
   "metadata": {},
   "outputs": [],
   "source": [
    "\n",
    "def rule_11(wrd, pos=None):\n",
    "    if 'ش' != wrd[-1]:\n",
    "        return wrd\n",
    "    else:\n",
    "        if pos == 'Noun':\n",
    "            return m0_9.process_noun(wrd[:-1])+'aS'\n",
    "        elif pos == 'Verb':\n",
    "            return m0_9.process_verb(wrd[:-1])+'eS'\n",
    "        else:\n",
    "            return m0_9.general_search(wrd[:-1], pos_pos=pos)+'eS'\n",
    "\n",
    "tests = [{'farsi': 'وسایلش', 'trans':'vasAyelaS', 'pos': 'Noun'},\n",
    "         {'farsi': 'بردندش', 'trans': 'bordandeS', 'pos': 'Verb'}]\n",
    "\n",
    "for t in tests:\n",
    "    assert rule_11(t['farsi'], t['pos']) == t['trans']\n"
   ]
  },
  {
   "cell_type": "code",
   "execution_count": null,
   "id": "fc8b787e",
   "metadata": {},
   "outputs": [],
   "source": []
  },
  {
   "cell_type": "markdown",
   "id": "0782d384",
   "metadata": {},
   "source": [
    "### Rule 12 (affix م)"
   ]
  },
  {
   "cell_type": "code",
   "execution_count": null,
   "id": "84d31425",
   "metadata": {},
   "outputs": [],
   "source": []
  },
  {
   "cell_type": "code",
   "execution_count": null,
   "id": "66acdbbe",
   "metadata": {},
   "outputs": [],
   "source": []
  },
  {
   "cell_type": "markdown",
   "id": "8cbf34f6",
   "metadata": {},
   "source": [
    "### Rule 13 (affix مان)"
   ]
  },
  {
   "cell_type": "code",
   "execution_count": null,
   "id": "e3dffb90",
   "metadata": {},
   "outputs": [],
   "source": []
  },
  {
   "cell_type": "code",
   "execution_count": null,
   "id": "1b937b8d",
   "metadata": {},
   "outputs": [],
   "source": []
  },
  {
   "cell_type": "markdown",
   "id": "6d78c1a5",
   "metadata": {},
   "source": [
    "### Rule 14 (affix می)"
   ]
  },
  {
   "cell_type": "code",
   "execution_count": 12,
   "id": "bd037b7c",
   "metadata": {},
   "outputs": [],
   "source": [
    "\n",
    "def rule_14(wrd, pos=None):\n",
    "    if not 'می' in wrd:\n",
    "        return wrd\n",
    "    else:\n",
    "        if 'می‌' == wrd[:3]:\n",
    "            return 'mi'+m0_9.process_wrd(wrd[3:], pos)\n",
    "        elif 'می' == wrd[-2:]:\n",
    "            return m0_9.general_search(wrd[:-2]) + 'omi'\n",
    "        \n",
    "tests = [{'farsi': 'می‌تواند', 'trans': 'mitavAnad', 'pos': 'Verb'},\n",
    "         {'farsi': 'چندمی', 'trans': 'Candomi'}]\n",
    "\n",
    "for t in tests:\n",
    "    assert rule_14(t['farsi'], t.get('pos', None)) == t['trans']\n"
   ]
  },
  {
   "cell_type": "code",
   "execution_count": null,
   "id": "224bde0e",
   "metadata": {},
   "outputs": [],
   "source": []
  },
  {
   "cell_type": "markdown",
   "id": "507bfbf3",
   "metadata": {},
   "source": [
    "### Rule 15 (affix آ)"
   ]
  },
  {
   "cell_type": "code",
   "execution_count": null,
   "id": "2ef8d4e3",
   "metadata": {},
   "outputs": [],
   "source": []
  },
  {
   "cell_type": "code",
   "execution_count": null,
   "id": "fe50438d",
   "metadata": {},
   "outputs": [],
   "source": []
  },
  {
   "cell_type": "markdown",
   "id": "32c9809b",
   "metadata": {},
   "source": [
    "### Rule 16 (affix ون)"
   ]
  },
  {
   "cell_type": "code",
   "execution_count": null,
   "id": "5108ce08",
   "metadata": {},
   "outputs": [],
   "source": []
  },
  {
   "cell_type": "code",
   "execution_count": null,
   "id": "84013f4f",
   "metadata": {},
   "outputs": [],
   "source": []
  },
  {
   "cell_type": "markdown",
   "id": "49736a42",
   "metadata": {},
   "source": [
    "### Rule 17 (affix ید)"
   ]
  },
  {
   "cell_type": "code",
   "execution_count": 15,
   "id": "9185dd98",
   "metadata": {},
   "outputs": [],
   "source": [
    "\n",
    "def rule_17(wrd, pos=None):\n",
    "    if not 'ید' in wrd:\n",
    "        return wrd\n",
    "    elif pos == 'Verb':\n",
    "        l_lemma = [w for w in assets.lemmatizer.lemmatize(wrd).split('#') if w == wrd[:len(w)]]\n",
    "        if len(l_lemma) > 0:\n",
    "            # print(1)\n",
    "            return m0_9.process_verb(wrd[:-len('ید')]) + 'id'\n",
    "        else:\n",
    "            return m0_9.process_verb(wrd[:-len('ید')])+'yad'\n",
    "    else:\n",
    "        return wrd # ???\n",
    "    \n",
    "tests = [{'farsi': 'رفتید', 'trans': 'raftid', 'pos': 'Verb'},\n",
    "         {'farsi': 'بگوید', 'trans': 'beguyad', 'pos': 'Verb'},\n",
    "         #{'farsi': 'می‌آید', 'trans': 'beguyad', 'pos': 'Verb'}\n",
    "        ]\n",
    "\n",
    "for t in tests:\n",
    "    assert rule_17(t['farsi'], t.get('pos', None)) == t['trans']\n"
   ]
  },
  {
   "cell_type": "code",
   "execution_count": null,
   "id": "478a90a5",
   "metadata": {},
   "outputs": [],
   "source": []
  },
  {
   "cell_type": "markdown",
   "id": "42b50edb",
   "metadata": {},
   "source": [
    "### Rule 18 (verb with یم)"
   ]
  },
  {
   "cell_type": "code",
   "execution_count": 16,
   "id": "c62a7ea2",
   "metadata": {},
   "outputs": [],
   "source": [
    "\n",
    "tests = [{'farsi': 'بپریم', 'trans': 'beparim', 'pos': 'Verb'},\n",
    "         {'farsi': 'رفتیم', 'trans': 'raftim', 'pos': 'Verb'},\n",
    "         {'farsi': 'خدایم', 'trans': 'xodAyam', 'pos': 'Noun'}]\n",
    "\n",
    "for t in tests:\n",
    "    assert m0_9.process_wrd(t['farsi'], t.get('pos', None)) == t['trans']\n"
   ]
  },
  {
   "cell_type": "code",
   "execution_count": null,
   "id": "8a90b5ed",
   "metadata": {},
   "outputs": [],
   "source": []
  },
  {
   "cell_type": "markdown",
   "id": "50bb7e78",
   "metadata": {},
   "source": [
    "### Rule 19 (Semispace u200c, improve imlementation in 0.9)"
   ]
  },
  {
   "cell_type": "code",
   "execution_count": null,
   "id": "b02ec58d",
   "metadata": {},
   "outputs": [],
   "source": []
  },
  {
   "cell_type": "code",
   "execution_count": null,
   "id": "5e7c7a4f",
   "metadata": {},
   "outputs": [],
   "source": []
  },
  {
   "cell_type": "markdown",
   "id": "61a6fee1",
   "metadata": {},
   "source": [
    "### Rule 20 (Recursive search, improve implemented in 0.9)"
   ]
  },
  {
   "cell_type": "code",
   "execution_count": null,
   "id": "a9dd3075",
   "metadata": {},
   "outputs": [],
   "source": []
  },
  {
   "cell_type": "code",
   "execution_count": null,
   "id": "c4160c01",
   "metadata": {},
   "outputs": [],
   "source": []
  },
  {
   "cell_type": "markdown",
   "id": "a87eb4b9",
   "metadata": {},
   "source": [
    "### Rule 21 (affix ن)"
   ]
  },
  {
   "cell_type": "code",
   "execution_count": null,
   "id": "aa669874",
   "metadata": {},
   "outputs": [],
   "source": []
  },
  {
   "cell_type": "code",
   "execution_count": null,
   "id": "0ff7f6de",
   "metadata": {},
   "outputs": [],
   "source": []
  },
  {
   "cell_type": "markdown",
   "id": "45dda2dd",
   "metadata": {},
   "source": [
    "### Rule 22 (affixes بی and نی)"
   ]
  },
  {
   "cell_type": "code",
   "execution_count": null,
   "id": "267c7e44",
   "metadata": {},
   "outputs": [],
   "source": []
  },
  {
   "cell_type": "code",
   "execution_count": null,
   "id": "99c09362",
   "metadata": {},
   "outputs": [],
   "source": []
  },
  {
   "cell_type": "markdown",
   "id": "2717ce3e",
   "metadata": {},
   "source": [
    "### Rule 23 (root of the verb is رو)"
   ]
  },
  {
   "cell_type": "code",
   "execution_count": null,
   "id": "1b393098",
   "metadata": {},
   "outputs": [],
   "source": []
  },
  {
   "cell_type": "code",
   "execution_count": null,
   "id": "5b5b0e89",
   "metadata": {},
   "outputs": [],
   "source": []
  },
  {
   "cell_type": "markdown",
   "id": "b928ba2a",
   "metadata": {},
   "source": [
    "### Rule 24 (Recursion, improve v0.9)"
   ]
  },
  {
   "cell_type": "code",
   "execution_count": null,
   "id": "fad664fe",
   "metadata": {},
   "outputs": [],
   "source": []
  },
  {
   "cell_type": "code",
   "execution_count": null,
   "id": "e3739178",
   "metadata": {},
   "outputs": [],
   "source": []
  }
 ],
 "metadata": {
  "kernelspec": {
   "display_name": "Python 3",
   "language": "python",
   "name": "python3"
  },
  "language_info": {
   "codemirror_mode": {
    "name": "ipython",
    "version": 3
   },
   "file_extension": ".py",
   "mimetype": "text/x-python",
   "name": "python",
   "nbconvert_exporter": "python",
   "pygments_lexer": "ipython3",
   "version": "3.6.13"
  }
 },
 "nbformat": 4,
 "nbformat_minor": 5
}
